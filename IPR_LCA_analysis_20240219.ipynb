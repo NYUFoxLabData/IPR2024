{
 "cells": [
  {
   "cell_type": "code",
   "execution_count": 1,
   "id": "4e4366ed-3f60-412e-ba92-ba9f6ccd3812",
   "metadata": {
    "tags": []
   },
   "outputs": [
    {
     "name": "stdout",
     "output_type": "stream",
     "text": [
      "Requirement already satisfied: numpy in c:\\users\\zhouz\\anaconda3\\lib\\site-packages (1.24.3)\n",
      "Requirement already satisfied: pandas in c:\\users\\zhouz\\anaconda3\\lib\\site-packages (1.5.3)\n",
      "Requirement already satisfied: matplotlib in c:\\users\\zhouz\\anaconda3\\lib\\site-packages (3.7.1)\n",
      "Requirement already satisfied: seaborn in c:\\users\\zhouz\\anaconda3\\lib\\site-packages (0.12.2)\n",
      "Requirement already satisfied: scikit-learn in c:\\users\\zhouz\\anaconda3\\lib\\site-packages (1.2.2)\n",
      "Requirement already satisfied: scipy in c:\\users\\zhouz\\anaconda3\\lib\\site-packages (1.10.1)\n",
      "Requirement already satisfied: python-dateutil>=2.8.1 in c:\\users\\zhouz\\anaconda3\\lib\\site-packages (from pandas) (2.8.2)\n",
      "Requirement already satisfied: pytz>=2020.1 in c:\\users\\zhouz\\anaconda3\\lib\\site-packages (from pandas) (2022.7.1)\n",
      "Requirement already satisfied: contourpy>=1.0.1 in c:\\users\\zhouz\\anaconda3\\lib\\site-packages (from matplotlib) (1.0.5)\n",
      "Requirement already satisfied: cycler>=0.10 in c:\\users\\zhouz\\anaconda3\\lib\\site-packages (from matplotlib) (0.11.0)\n",
      "Requirement already satisfied: fonttools>=4.22.0 in c:\\users\\zhouz\\anaconda3\\lib\\site-packages (from matplotlib) (4.25.0)\n",
      "Requirement already satisfied: kiwisolver>=1.0.1 in c:\\users\\zhouz\\anaconda3\\lib\\site-packages (from matplotlib) (1.4.4)\n",
      "Requirement already satisfied: packaging>=20.0 in c:\\users\\zhouz\\anaconda3\\lib\\site-packages (from matplotlib) (23.2)\n",
      "Requirement already satisfied: pillow>=6.2.0 in c:\\users\\zhouz\\anaconda3\\lib\\site-packages (from matplotlib) (9.5.0)\n",
      "Requirement already satisfied: pyparsing>=2.3.1 in c:\\users\\zhouz\\anaconda3\\lib\\site-packages (from matplotlib) (3.0.9)\n",
      "Requirement already satisfied: joblib>=1.1.1 in c:\\users\\zhouz\\anaconda3\\lib\\site-packages (from scikit-learn) (1.2.0)\n",
      "Requirement already satisfied: threadpoolctl>=2.0.0 in c:\\users\\zhouz\\anaconda3\\lib\\site-packages (from scikit-learn) (2.2.0)\n",
      "Requirement already satisfied: six>=1.5 in c:\\users\\zhouz\\anaconda3\\lib\\site-packages (from python-dateutil>=2.8.1->pandas) (1.16.0)\n"
     ]
    }
   ],
   "source": [
    "!pip install numpy pandas matplotlib seaborn scikit-learn scipy stepmix"
   ]
  },
  {
   "cell_type": "code",
   "execution_count": 1,
   "id": "ae7b8f9a-66aa-4676-9259-59599f4b39f4",
   "metadata": {
    "tags": []
   },
   "outputs": [],
   "source": [
    "import numpy as np\n",
    "import pandas as pd\n",
    "import matplotlib.pyplot as plt\n",
    "import seaborn as sns\n",
    "import sklearn\n",
    "import scipy\n",
    "from sklearn.utils import resample"
   ]
  },
  {
   "cell_type": "markdown",
   "id": "3e0b907e-5e5f-4040-b412-a696440ad4b8",
   "metadata": {
    "tags": []
   },
   "source": [
    "# Helper Functions"
   ]
  },
  {
   "cell_type": "code",
   "execution_count": 2,
   "id": "e922d28b-814d-4dc1-8052-32292a6df137",
   "metadata": {
    "tags": []
   },
   "outputs": [],
   "source": [
    "df = pd.read_csv(\"Music_preference_prescreening_survey.csv\")\n",
    "\n",
    "cols_of_interest = {\n",
    "    \"gender\" : \"What is your gender?\",\n",
    "    \"environment\" : \"I grew up in a(n) ... area.\",\n",
    "    \"race\" : \"What is your race/ethnicity?\",\n",
    "    \"politics\" : \"What are your political views? (pick closest)\",\n",
    "    \"religion\" : \"What are your religious views? (pick closest)\",\n",
    "    \"instrument\" : \"How many music instruments do you play?\"\n",
    "}\n",
    "\n",
    "def clean_instrument(df: pd.DataFrame) -> pd.DataFrame:\n",
    "    \"\"\"\n",
    "    Cleans and aggregates instrument playing data from the input DataFrame.\n",
    "\n",
    "    This function selects specific columns related to musical instruments played by respondents,\n",
    "    converts non-numeric (NaN) values to 0, numeric values to 1, and sums up the total number\n",
    "    of instruments played by each respondent. The summed value is then added as a new column\n",
    "    to the original DataFrame.\n",
    "\n",
    "    Parameters:\n",
    "    - df (pd.DataFrame): The input DataFrame containing raw data.\n",
    "\n",
    "    Returns:\n",
    "    - pd.DataFrame: The original DataFrame with an added 'instrument' column representing the\n",
    "      total number of instruments played by each respondent.\n",
    "    \"\"\"\n",
    "    # Selecting specified columns for instrument data and initializing with binary representation\n",
    "    instrument = df.iloc[1:, [i for i in range(33, 53, 4)]]\n",
    "    \n",
    "    for i in range(instrument.shape[1]):\n",
    "        # Mapping non-numeric to 0 and numeric to 1\n",
    "        instrument[instrument.columns[i]] = instrument.iloc[:, i].map(lambda x: 0 if x != x else 1)\n",
    "    # Summing up the number of instruments played by each respondent\n",
    "    instrument = instrument.T.sum().to_frame().rename(columns={0: 'instrument'})\n",
    "\n",
    "    # Adding the aggregated instrument data to the original DataFrame\n",
    "    df[\"How many music instruments do you play?\"] = instrument\n",
    "    # Get column names\n",
    "    columns = df.columns.tolist()\n",
    "    # Switch last column to the first position\n",
    "    columns = columns[:-2] + [columns[-1]]\n",
    "    # Reorder DataFrame columns\n",
    "    df = df[columns]\n",
    "    \n",
    "    return df\n",
    "\n",
    "def clean_genres(df: pd.DataFrame) -> pd.DataFrame:\n",
    "    \"\"\"\n",
    "    Cleans and aggregates musical genre preference data from the input DataFrame.\n",
    "\n",
    "    This function selects columns related to musical genres, converts non-numeric (NaN)\n",
    "    values to 0, numeric values to 1, and sums the preferences across genres for each\n",
    "    respondent. The summed values are returned as a new DataFrame.\n",
    "\n",
    "    Parameters:\n",
    "    - df (pd.DataFrame): The input DataFrame containing raw data.\n",
    "\n",
    "    Returns:\n",
    "    - pd.DataFrame: A new DataFrame with a single 'genres' column representing the total\n",
    "      number of genres preferred by each respondent.\n",
    "    \"\"\"\n",
    "    # Selecting and cleaning genre data\n",
    "    genres = df.iloc[1:, 57:84]\n",
    "    for i in range(genres.shape[1]):\n",
    "        genres[genres.columns[i]] = genres.iloc[:, i].map(lambda x: 0 if x != x else 1)\n",
    "    genres = genres.T.sum().to_frame().rename(columns={0: 'genres'})\n",
    "\n",
    "    return genres\n",
    "\n",
    "def clean_usage(df: pd.DataFrame) -> pd.DataFrame:\n",
    "    \"\"\"\n",
    "    Cleans and aggregates data on the usage of various services or products from the input DataFrame.\n",
    "\n",
    "    Parameters:\n",
    "    - df (pd.DataFrame): The input DataFrame containing raw data.\n",
    "\n",
    "    Returns:\n",
    "    - pd.DataFrame: A new DataFrame with a 'usage' column, summarizing the total usage count\n",
    "      across the selected services or products for each respondent.\n",
    "    \"\"\"\n",
    "    # Selecting and cleaning usage data\n",
    "    usage = df.iloc[1:, 21:32]\n",
    "    for i in range(usage.shape[1]):\n",
    "        usage[usage.columns[i]] = usage.iloc[:, i].map(lambda x: 0 if x != x else 1)\n",
    "    usage = usage.T.sum().to_frame().rename(columns={0: 'usage'})\n",
    "\n",
    "    return usage\n",
    "\n",
    "def clean_ses(df: pd.DataFrame) -> pd.DataFrame:\n",
    "    \"\"\"\n",
    "    Cleans and categorizes socio-economic status (SES) data from the input DataFrame.\n",
    "\n",
    "    Maps the SES descriptions to numeric values, excludes middle class data, and then categorizes\n",
    "    the remaining data into 'Upper' or 'Lower' SES groups.\n",
    "\n",
    "    Parameters:\n",
    "    - df (pd.DataFrame): The input DataFrame containing raw SES data.\n",
    "\n",
    "    Returns:\n",
    "    - pd.DataFrame: A new DataFrame with a single column categorizing respondents into 'Upper' or 'Lower'\n",
    "      SES groups, excluding 'Middle class'.\n",
    "    \"\"\"\n",
    "    # Mapping SES descriptions to numeric values and re-categorizing\n",
    "    original_ses = df.iloc[1:, [-3]]\n",
    "    ses_dict = {\n",
    "        'Upper class': 5,\n",
    "        'Upper middle class': 4,\n",
    "        'Middle class': 3,\n",
    "        'Lower middle class': 2,\n",
    "        'At or below poverty line': 1\n",
    "    }\n",
    "    for i in range(len(original_ses)):\n",
    "        cls = original_ses.iloc[i, 0]\n",
    "        original_ses.iloc[i, 0] = ses_dict.get(cls, -1)\n",
    "    # Excluding 'Middle class' and categorizing into 'Upper' or 'Lower'\n",
    "    original_ses = original_ses[original_ses[original_ses.columns[0]] != 3].iloc[:, 0].map(lambda x: \"Lower\" if x < 3 else \"Upper\").to_frame()\n",
    "\n",
    "    return original_ses\n",
    "\n",
    "def join_df_ses(df: pd.DataFrame, ses: pd.DataFrame) -> pd.DataFrame:\n",
    "    \"\"\"\n",
    "    Joins the main DataFrame with the socio-economic status (SES) DataFrame based on their indices.\n",
    "\n",
    "    Parameters:\n",
    "    - df (pd.DataFrame): The main DataFrame.\n",
    "    - ses (pd.DataFrame): The DataFrame containing SES data.\n",
    "\n",
    "    Returns:\n",
    "    - pd.DataFrame: The result of an inner join between the main DataFrame and the SES DataFrame.\n",
    "    \"\"\"\n",
    "    # Performing an inner join based on DataFrame indices\n",
    "    return pd.merge(df, ses, left_index=True, right_index=True, how='inner')\n",
    "\n",
    "def get_top3_buckets(df: pd.DataFrame, col: str) -> list:\n",
    "    \"\"\"\n",
    "    Identifies the top 3 most common values (buckets) for a specified column in the DataFrame.\n",
    "\n",
    "    Parameters:\n",
    "    - df (pd.DataFrame): The DataFrame to analyze.\n",
    "    - col (str): The column name whose top 3 most common values are to be found.\n",
    "\n",
    "    Returns:\n",
    "    - list: A list containing the top 3 most common values in the specified column.\n",
    "    \"\"\"\n",
    "    # Accessing the column of interest\n",
    "    col_name = cols_of_interest[col]\n",
    "    # Retrieving the top 3 most common values\n",
    "    return [df[[col_name]].iloc[1:].value_counts().keys()[i][0] for i in range(3)]\n",
    "\n",
    "def stratification(df: pd.DataFrame, joined_df_ses: pd.DataFrame, col: str, bucket: int) -> pd.DataFrame:\n",
    "    \"\"\"\n",
    "    Stratifies a DataFrame based on the top 3 buckets of a specific column and merges it with SES data.\n",
    "\n",
    "    Parameters:\n",
    "    - df (pd.DataFrame): The original DataFrame.\n",
    "    - joined_df_ses (pd.DataFrame): The DataFrame containing joined SES data.\n",
    "    - col (str): The column name used for stratification.\n",
    "    - bucket (int): The specific bucket (1, 2, or 3) to filter by, or any other value to exclude these top 3.\n",
    "\n",
    "    Returns:\n",
    "    - pd.DataFrame: A stratified DataFrame filtered by the specified bucket and merged with SES data.\n",
    "    \"\"\"\n",
    "    # Getting the top 3 buckets for stratification\n",
    "    top3_bucket = get_top3_buckets(df, col)\n",
    "    col_name = cols_of_interest[col]\n",
    "    # Merging with SES data based on stratification criteria\n",
    "    joined_tabs = pd.merge(joined_df_ses, df[col_name], left_index=True, right_index=True, how='inner')\n",
    "    if bucket in [1, 2, 3]:\n",
    "        # Filtering by the specific bucket\n",
    "        return joined_tabs[joined_tabs[col_name] == top3_bucket[bucket-1]]\n",
    "    else:\n",
    "        # Excluding the top 3 buckets\n",
    "        return joined_tabs[~joined_tabs[col_name].isin(top3_bucket)]\n",
    "\n",
    "def stratified_t_test(stratified_df: pd.DataFrame) -> float:\n",
    "    \"\"\"\n",
    "    Performs a t-test to compare means between two stratified groups based on SES ('Upper' vs 'Lower').\n",
    "\n",
    "    Parameters:\n",
    "    - stratified_df (pd.DataFrame): The DataFrame containing stratified data along with SES categorization.\n",
    "\n",
    "    Returns:\n",
    "    - float: The p-value from the t-test comparing the means of the two groups.\n",
    "    \"\"\"\n",
    "    # Conducting a t-test between 'Upper' and 'Lower' SES groups\n",
    "    res = scipy.stats.ttest_ind(\n",
    "        stratified_df[stratified_df[stratified_df.columns[1]] == \"Upper\"][stratified_df.columns[0]],\n",
    "        stratified_df[stratified_df[stratified_df.columns[1]] == \"Lower\"][stratified_df.columns[0]]\n",
    "    )\n",
    "\n",
    "    return res.pvalue\n",
    "\n",
    "def bootstrap_mean_ci(data, n_bootstrap_samples = 10000, ci=95):\n",
    "    bootstrap_means = np.empty(n_bootstrap_samples)\n",
    "    for i in range(n_bootstrap_samples):\n",
    "        bootstrap_sample = np.random.choice(data, size=len(data), replace=True)\n",
    "        bootstrap_means[i] = np.mean(bootstrap_sample)\n",
    "    lower_bound = np.percentile(bootstrap_means, (100-ci)/2)\n",
    "    upper_bound = np.percentile(bootstrap_means, 100-(100-ci)/2)\n",
    "    \n",
    "    return [np.mean(bootstrap_means) - lower_bound, upper_bound - np.mean(bootstrap_means)]\n",
    "\n",
    "df = clean_instrument(df)"
   ]
  },
  {
   "cell_type": "markdown",
   "id": "69d9b79f-b531-4f34-9be6-5ef31bda45c3",
   "metadata": {
    "tags": []
   },
   "source": [
    "# LCA"
   ]
  },
  {
   "cell_type": "code",
   "execution_count": 3,
   "id": "f5f4d50d-3ae2-469a-9287-049ed07f7c90",
   "metadata": {
    "tags": []
   },
   "outputs": [],
   "source": [
    "genres = df.iloc[1:, 57:84]\n",
    "for i in range(genres.shape[1]):\n",
    "    genres[genres.columns[i]] = genres.iloc[:, i].map(lambda x: 0 if x != x else 1)\n",
    "genres.columns = df.iloc[0, 57:84].values\n",
    "\n",
    "usage = df.iloc[1:, 21:32]\n",
    "for i in range(usage.shape[1]):\n",
    "    usage[usage.columns[i]] = usage.iloc[:, i].map(lambda x: 0 if x != x else 1)\n",
    "usage.columns = df.iloc[0, 21:32].values"
   ]
  },
  {
   "cell_type": "code",
   "execution_count": 4,
   "id": "0a43f624-4b7e-4719-8eef-9afcfdcc00f0",
   "metadata": {
    "tags": []
   },
   "outputs": [
    {
     "name": "stdout",
     "output_type": "stream",
     "text": [
      "Fitting StepMix...\n"
     ]
    },
    {
     "name": "stderr",
     "output_type": "stream",
     "text": [
      "Initializations (n_init) : 100%|█████████████████████| 1/1 [00:00<00:00, 398.21it/s, max_LL=-1.89e+4, max_avg_LL=-13.7]\n"
     ]
    },
    {
     "name": "stdout",
     "output_type": "stream",
     "text": [
      "1 Class(es) BIC: 37938.57369894505\n",
      "Fitting StepMix...\n"
     ]
    },
    {
     "name": "stderr",
     "output_type": "stream",
     "text": [
      "Initializations (n_init) : 100%|██████████████████████| 1/1 [00:00<00:00, 15.32it/s, max_LL=-1.78e+4, max_avg_LL=-12.9]\n"
     ]
    },
    {
     "name": "stdout",
     "output_type": "stream",
     "text": [
      "2 Class(es) BIC: 35918.19823951682\n",
      "Fitting StepMix...\n"
     ]
    },
    {
     "name": "stderr",
     "output_type": "stream",
     "text": [
      "Initializations (n_init) : 100%|██████████████████████| 1/1 [00:00<00:00, 20.58it/s, max_LL=-1.75e+4, max_avg_LL=-12.7]\n"
     ]
    },
    {
     "name": "stdout",
     "output_type": "stream",
     "text": [
      "3 Class(es) BIC: 35549.221228196424\n",
      "Fitting StepMix...\n"
     ]
    },
    {
     "name": "stderr",
     "output_type": "stream",
     "text": [
      "Initializations (n_init) : 100%|██████████████████████| 1/1 [00:00<00:00,  7.92it/s, max_LL=-1.72e+4, max_avg_LL=-12.5]\n"
     ]
    },
    {
     "name": "stdout",
     "output_type": "stream",
     "text": [
      "4 Class(es) BIC: 35170.71538297652\n",
      "Fitting StepMix...\n"
     ]
    },
    {
     "name": "stderr",
     "output_type": "stream",
     "text": [
      "Initializations (n_init) : 100%|███████████████████████| 1/1 [00:00<00:00,  9.50it/s, max_LL=-1.7e+4, max_avg_LL=-12.4]\n"
     ]
    },
    {
     "name": "stdout",
     "output_type": "stream",
     "text": [
      "5 Class(es) BIC: 35044.00019190428\n",
      "Fitting StepMix...\n"
     ]
    },
    {
     "name": "stderr",
     "output_type": "stream",
     "text": [
      "Initializations (n_init) : 100%|██████████████████████| 1/1 [00:00<00:00, 11.56it/s, max_LL=-1.68e+4, max_avg_LL=-12.3]\n"
     ]
    },
    {
     "name": "stdout",
     "output_type": "stream",
     "text": [
      "6 Class(es) BIC: 34900.6007174833\n",
      "Fitting StepMix...\n"
     ]
    },
    {
     "name": "stderr",
     "output_type": "stream",
     "text": [
      "Initializations (n_init) : 100%|██████████████████████| 1/1 [00:00<00:00,  9.55it/s, max_LL=-1.68e+4, max_avg_LL=-12.2]\n"
     ]
    },
    {
     "name": "stdout",
     "output_type": "stream",
     "text": [
      "7 Class(es) BIC: 34953.71103262479\n",
      "Fitting StepMix...\n"
     ]
    },
    {
     "name": "stderr",
     "output_type": "stream",
     "text": [
      "Initializations (n_init) : 100%|██████████████████████| 1/1 [00:00<00:00,  4.15it/s, max_LL=-1.67e+4, max_avg_LL=-12.1]\n"
     ]
    },
    {
     "name": "stdout",
     "output_type": "stream",
     "text": [
      "8 Class(es) BIC: 34962.07846978397\n",
      "Fitting StepMix...\n"
     ]
    },
    {
     "name": "stderr",
     "output_type": "stream",
     "text": [
      "Initializations (n_init) : 100%|██████████████████████| 1/1 [00:00<00:00,  6.05it/s, max_LL=-1.66e+4, max_avg_LL=-12.1]"
     ]
    },
    {
     "name": "stdout",
     "output_type": "stream",
     "text": [
      "9 Class(es) BIC: 35070.22927815544\n"
     ]
    },
    {
     "name": "stderr",
     "output_type": "stream",
     "text": [
      "\n"
     ]
    }
   ],
   "source": [
    "from stepmix.stepmix import StepMix\n",
    "for i in range(1, 10):\n",
    "    model_genres = StepMix(n_components = i, measurement=\"binary\", random_state=412)\n",
    "    # Fit model\n",
    "    print(f\"{i} Class(es) BIC: {model_genres.fit(genres).bic(genres)}\")"
   ]
  },
  {
   "cell_type": "code",
   "execution_count": 5,
   "id": "963f4105-05a5-474b-be26-f67fff192fbf",
   "metadata": {
    "tags": []
   },
   "outputs": [
    {
     "name": "stdout",
     "output_type": "stream",
     "text": [
      "Fitting StepMix...\n"
     ]
    },
    {
     "name": "stderr",
     "output_type": "stream",
     "text": [
      "Initializations (n_init) : 100%|██████████████████████| 1/1 [00:00<00:00, 11.39it/s, max_LL=-1.68e+4, max_avg_LL=-12.3]"
     ]
    },
    {
     "name": "stdout",
     "output_type": "stream",
     "text": [
      "================================================================================\n",
      "MODEL REPORT\n",
      "================================================================================\n",
      "    ============================================================================\n",
      "    Measurement model parameters\n",
      "    ============================================================================\n",
      "          model_name               binary                                        \n",
      "          class_no                      0       1       2       3       4       5\n",
      "          param variable                                                         \n",
      "          pis   Alternative/Indie  0.6601  0.3612  0.9576  0.2092  0.8893  0.6756\n",
      "                Blues              0.6378  0.0371  0.8436  0.0543  0.0420  0.0890\n",
      "                Classical          0.5677  0.1478  0.6962  0.5771  0.3401  0.4854\n",
      "                Country            0.2717  0.0842  0.3695  0.2537  0.1317  0.1201\n",
      "                Dance              0.2355  0.2294  0.7991  0.1722  0.1623  0.6854\n",
      "                Disco              0.2286  0.0400  0.7807  0.0271  0.1208  0.3665\n",
      "                EDM                0.0350  0.1598  0.5380  0.1143  0.0839  0.7305\n",
      "                Electronic         0.1385  0.0935  0.7694  0.1752  0.1230  0.8196\n",
      "                Folk               0.3581  0.0147  0.6280  0.1132  0.3098  0.1557\n",
      "                Funk               0.4329  0.0302  0.8786  0.0090  0.1048  0.2361\n",
      "                Gospel             0.1420  0.0590  0.3935  0.0574  0.0000  0.0590\n",
      "                House              0.1067  0.1085  0.6892  0.0251  0.0459  0.6214\n",
      "                Jazz               0.7987  0.1439  0.9469  0.2284  0.1714  0.3784\n",
      "                Latin              0.3084  0.3024  0.6591  0.1120  0.1625  0.3082\n",
      "                Metal              0.1423  0.0026  0.3956  0.0201  0.1760  0.1851\n",
      "                Opera              0.1642  0.0000  0.2578  0.1460  0.0000  0.0681\n",
      "                Pop                0.7358  0.8514  0.8271  0.6990  0.8106  0.8304\n",
      "                Punk               0.2509  0.0211  0.7192  0.0000  0.4331  0.2391\n",
      "                R&B/Soul           0.8555  0.8180  0.8482  0.2147  0.3887  0.5947\n",
      "                Rap/Hiphop         0.7306  0.8827  0.8526  0.2581  0.5846  0.7826\n",
      "                Reggae             0.2690  0.2055  0.6693  0.0261  0.0921  0.2347\n",
      "                Religious          0.1041  0.0479  0.1760  0.1086  0.0066  0.0667\n",
      "                Rock               0.6232  0.1217  0.9448  0.1821  0.9733  0.6173\n",
      "                Soundtrack         0.4188  0.1479  0.6658  0.2818  0.4069  0.4395\n",
      "                Swing              0.2035  0.0025  0.4417  0.0335  0.0225  0.0849\n",
      "                Techno             0.0215  0.0202  0.5728  0.0363  0.0000  0.5826\n",
      "                World              0.3105  0.1942  0.7928  0.2525  0.1698  0.3812\n",
      "    ============================================================================\n",
      "    Class weights\n",
      "    ============================================================================\n",
      "        Class 1 : 0.15\n",
      "        Class 2 : 0.30\n",
      "        Class 3 : 0.05\n",
      "        Class 4 : 0.18\n",
      "        Class 5 : 0.14\n",
      "        Class 6 : 0.17\n",
      "    ============================================================================\n",
      "    Fit for 6 latent classes\n",
      "    ============================================================================\n",
      "    Estimation method             : 1-step\n",
      "    Number of observations        : 1375\n",
      "    Number of latent classes      : 6\n",
      "    Number of estimated parameters: 167\n",
      "    Log-likelihood (LL)           : -16846.9119\n",
      "    -2LL                          : 33693.8238\n",
      "    Average LL                    : -12.2523\n",
      "    AIC                           : 34027.82\n",
      "    BIC                           : 34900.60\n",
      "    CAIC                          : 35067.60\n",
      "    Sample-Size Adjusted BIC      : 35576.89\n",
      "    Entropy                       : 499.1020\n",
      "    Scaled Relative Entropy       : 0.7974\n"
     ]
    },
    {
     "name": "stderr",
     "output_type": "stream",
     "text": [
      "\n"
     ]
    },
    {
     "data": {
      "text/html": [
       "<style>#sk-container-id-1 {color: black;background-color: white;}#sk-container-id-1 pre{padding: 0;}#sk-container-id-1 div.sk-toggleable {background-color: white;}#sk-container-id-1 label.sk-toggleable__label {cursor: pointer;display: block;width: 100%;margin-bottom: 0;padding: 0.3em;box-sizing: border-box;text-align: center;}#sk-container-id-1 label.sk-toggleable__label-arrow:before {content: \"▸\";float: left;margin-right: 0.25em;color: #696969;}#sk-container-id-1 label.sk-toggleable__label-arrow:hover:before {color: black;}#sk-container-id-1 div.sk-estimator:hover label.sk-toggleable__label-arrow:before {color: black;}#sk-container-id-1 div.sk-toggleable__content {max-height: 0;max-width: 0;overflow: hidden;text-align: left;background-color: #f0f8ff;}#sk-container-id-1 div.sk-toggleable__content pre {margin: 0.2em;color: black;border-radius: 0.25em;background-color: #f0f8ff;}#sk-container-id-1 input.sk-toggleable__control:checked~div.sk-toggleable__content {max-height: 200px;max-width: 100%;overflow: auto;}#sk-container-id-1 input.sk-toggleable__control:checked~label.sk-toggleable__label-arrow:before {content: \"▾\";}#sk-container-id-1 div.sk-estimator input.sk-toggleable__control:checked~label.sk-toggleable__label {background-color: #d4ebff;}#sk-container-id-1 div.sk-label input.sk-toggleable__control:checked~label.sk-toggleable__label {background-color: #d4ebff;}#sk-container-id-1 input.sk-hidden--visually {border: 0;clip: rect(1px 1px 1px 1px);clip: rect(1px, 1px, 1px, 1px);height: 1px;margin: -1px;overflow: hidden;padding: 0;position: absolute;width: 1px;}#sk-container-id-1 div.sk-estimator {font-family: monospace;background-color: #f0f8ff;border: 1px dotted black;border-radius: 0.25em;box-sizing: border-box;margin-bottom: 0.5em;}#sk-container-id-1 div.sk-estimator:hover {background-color: #d4ebff;}#sk-container-id-1 div.sk-parallel-item::after {content: \"\";width: 100%;border-bottom: 1px solid gray;flex-grow: 1;}#sk-container-id-1 div.sk-label:hover label.sk-toggleable__label {background-color: #d4ebff;}#sk-container-id-1 div.sk-serial::before {content: \"\";position: absolute;border-left: 1px solid gray;box-sizing: border-box;top: 0;bottom: 0;left: 50%;z-index: 0;}#sk-container-id-1 div.sk-serial {display: flex;flex-direction: column;align-items: center;background-color: white;padding-right: 0.2em;padding-left: 0.2em;position: relative;}#sk-container-id-1 div.sk-item {position: relative;z-index: 1;}#sk-container-id-1 div.sk-parallel {display: flex;align-items: stretch;justify-content: center;background-color: white;position: relative;}#sk-container-id-1 div.sk-item::before, #sk-container-id-1 div.sk-parallel-item::before {content: \"\";position: absolute;border-left: 1px solid gray;box-sizing: border-box;top: 0;bottom: 0;left: 50%;z-index: -1;}#sk-container-id-1 div.sk-parallel-item {display: flex;flex-direction: column;z-index: 1;position: relative;background-color: white;}#sk-container-id-1 div.sk-parallel-item:first-child::after {align-self: flex-end;width: 50%;}#sk-container-id-1 div.sk-parallel-item:last-child::after {align-self: flex-start;width: 50%;}#sk-container-id-1 div.sk-parallel-item:only-child::after {width: 0;}#sk-container-id-1 div.sk-dashed-wrapped {border: 1px dashed gray;margin: 0 0.4em 0.5em 0.4em;box-sizing: border-box;padding-bottom: 0.4em;background-color: white;}#sk-container-id-1 div.sk-label label {font-family: monospace;font-weight: bold;display: inline-block;line-height: 1.2em;}#sk-container-id-1 div.sk-label-container {text-align: center;}#sk-container-id-1 div.sk-container {/* jupyter's `normalize.less` sets `[hidden] { display: none; }` but bootstrap.min.css set `[hidden] { display: none !important; }` so we also need the `!important` here to be able to override the default hidden behavior on the sphinx rendered scikit-learn.org. See: https://github.com/scikit-learn/scikit-learn/issues/21755 */display: inline-block !important;position: relative;}#sk-container-id-1 div.sk-text-repr-fallback {display: none;}</style><div id=\"sk-container-id-1\" class=\"sk-top-container\"><div class=\"sk-text-repr-fallback\"><pre>StepMix(measurement=&#x27;binary&#x27;, n_components=6, random_state=412, verbose=1)</pre><b>In a Jupyter environment, please rerun this cell to show the HTML representation or trust the notebook. <br />On GitHub, the HTML representation is unable to render, please try loading this page with nbviewer.org.</b></div><div class=\"sk-container\" hidden><div class=\"sk-item\"><div class=\"sk-estimator sk-toggleable\"><input class=\"sk-toggleable__control sk-hidden--visually\" id=\"sk-estimator-id-1\" type=\"checkbox\" checked><label for=\"sk-estimator-id-1\" class=\"sk-toggleable__label sk-toggleable__label-arrow\">StepMix</label><div class=\"sk-toggleable__content\"><pre>StepMix(measurement=&#x27;binary&#x27;, n_components=6, random_state=412, verbose=1)</pre></div></div></div></div></div>"
      ],
      "text/plain": [
       "StepMix(measurement='binary', n_components=6, random_state=412, verbose=1)"
      ]
     },
     "execution_count": 5,
     "metadata": {},
     "output_type": "execute_result"
    }
   ],
   "source": [
    "model_genres = StepMix(n_components = 6, measurement=\"binary\", verbose = 1, random_state=412)\n",
    "model_genres.fit(genres)"
   ]
  },
  {
   "cell_type": "code",
   "execution_count": 6,
   "id": "5fd687c0-7356-4c0b-b79e-161f3a1a6aee",
   "metadata": {
    "tags": []
   },
   "outputs": [
    {
     "name": "stdout",
     "output_type": "stream",
     "text": [
      "Fitting StepMix...\n"
     ]
    },
    {
     "name": "stderr",
     "output_type": "stream",
     "text": [
      "Initializations (n_init) : 100%|██████████████████████| 1/1 [00:00<00:00, 911.81it/s, max_LL=-7.69e+3, max_avg_LL=-5.6]\n"
     ]
    },
    {
     "name": "stdout",
     "output_type": "stream",
     "text": [
      "1 Class(es) BIC: 15469.13454291511\n",
      "Fitting StepMix...\n"
     ]
    },
    {
     "name": "stderr",
     "output_type": "stream",
     "text": [
      "Initializations (n_init) : 100%|███████████████████████| 1/1 [00:00<00:00, 25.40it/s, max_LL=-7.14e+3, max_avg_LL=-5.2]\n"
     ]
    },
    {
     "name": "stdout",
     "output_type": "stream",
     "text": [
      "2 Class(es) BIC: 14453.106143500918\n",
      "Fitting StepMix...\n"
     ]
    },
    {
     "name": "stderr",
     "output_type": "stream",
     "text": [
      "Initializations (n_init) : 100%|██████████████████████| 1/1 [00:00<00:00,  4.23it/s, max_LL=-7.05e+3, max_avg_LL=-5.13]\n"
     ]
    },
    {
     "name": "stdout",
     "output_type": "stream",
     "text": [
      "3 Class(es) BIC: 14355.037567363492\n",
      "Fitting StepMix...\n"
     ]
    },
    {
     "name": "stderr",
     "output_type": "stream",
     "text": [
      "Initializations (n_init) : 100%|██████████████████████| 1/1 [00:00<00:00,  8.10it/s, max_LL=-6.99e+3, max_avg_LL=-5.08]\n"
     ]
    },
    {
     "name": "stdout",
     "output_type": "stream",
     "text": [
      "4 Class(es) BIC: 14315.012075242603\n",
      "Fitting StepMix...\n"
     ]
    },
    {
     "name": "stderr",
     "output_type": "stream",
     "text": [
      "Initializations (n_init) : 100%|██████████████████████| 1/1 [00:00<00:00,  3.96it/s, max_LL=-6.96e+3, max_avg_LL=-5.06]\n"
     ]
    },
    {
     "name": "stdout",
     "output_type": "stream",
     "text": [
      "5 Class(es) BIC: 14337.182410620371\n",
      "Fitting StepMix...\n"
     ]
    },
    {
     "name": "stderr",
     "output_type": "stream",
     "text": [
      "Initializations (n_init) : 100%|██████████████████████| 1/1 [00:00<00:00,  1.62it/s, max_LL=-6.94e+3, max_avg_LL=-5.05]\n",
      "C:\\Users\\zhouz\\anaconda3\\Lib\\site-packages\\stepmix\\stepmix.py:968: ConvergenceWarning: Initializations did not converge. Try different init parameters, or increase max_iter, abs_tol, rel_tol or check for degenerate data.\n",
      "  warnings.warn(\n"
     ]
    },
    {
     "name": "stdout",
     "output_type": "stream",
     "text": [
      "6 Class(es) BIC: 14396.840011593495\n",
      "Fitting StepMix...\n"
     ]
    },
    {
     "name": "stderr",
     "output_type": "stream",
     "text": [
      "Initializations (n_init) : 100%|██████████████████████| 1/1 [00:00<00:00,  1.45it/s, max_LL=-6.92e+3, max_avg_LL=-5.03]\n"
     ]
    },
    {
     "name": "stdout",
     "output_type": "stream",
     "text": [
      "7 Class(es) BIC: 14442.709794438313\n",
      "Fitting StepMix...\n"
     ]
    },
    {
     "name": "stderr",
     "output_type": "stream",
     "text": [
      "Initializations (n_init) : 100%|██████████████████████| 1/1 [00:00<00:00,  1.45it/s, max_LL=-6.91e+3, max_avg_LL=-5.03]\n",
      "C:\\Users\\zhouz\\anaconda3\\Lib\\site-packages\\stepmix\\stepmix.py:968: ConvergenceWarning: Initializations did not converge. Try different init parameters, or increase max_iter, abs_tol, rel_tol or check for degenerate data.\n",
      "  warnings.warn(\n"
     ]
    },
    {
     "name": "stdout",
     "output_type": "stream",
     "text": [
      "8 Class(es) BIC: 14511.833631576195\n",
      "Fitting StepMix...\n"
     ]
    },
    {
     "name": "stderr",
     "output_type": "stream",
     "text": [
      "Initializations (n_init) : 100%|███████████████████████| 1/1 [00:00<00:00,  1.40it/s, max_LL=-6.9e+3, max_avg_LL=-5.02]"
     ]
    },
    {
     "name": "stdout",
     "output_type": "stream",
     "text": [
      "9 Class(es) BIC: 14579.207919318666\n"
     ]
    },
    {
     "name": "stderr",
     "output_type": "stream",
     "text": [
      "\n",
      "C:\\Users\\zhouz\\anaconda3\\Lib\\site-packages\\stepmix\\stepmix.py:968: ConvergenceWarning: Initializations did not converge. Try different init parameters, or increase max_iter, abs_tol, rel_tol or check for degenerate data.\n",
      "  warnings.warn(\n"
     ]
    }
   ],
   "source": [
    "for i in range(1, 10):\n",
    "    model_usage = StepMix(n_components = i, measurement=\"binary\", random_state = 412)\n",
    "    # Fit model\n",
    "    print(f\"{i} Class(es) BIC: {model_usage.fit(usage).bic(usage)}\")"
   ]
  },
  {
   "cell_type": "code",
   "execution_count": 7,
   "id": "384c2e00-aec7-4d2c-aa49-927fb6665139",
   "metadata": {
    "tags": []
   },
   "outputs": [
    {
     "name": "stdout",
     "output_type": "stream",
     "text": [
      "Fitting StepMix...\n"
     ]
    },
    {
     "name": "stderr",
     "output_type": "stream",
     "text": [
      "Initializations (n_init) : 100%|██████████████████████| 1/1 [00:00<00:00,  7.88it/s, max_LL=-6.99e+3, max_avg_LL=-5.08]"
     ]
    },
    {
     "name": "stdout",
     "output_type": "stream",
     "text": [
      "================================================================================\n",
      "MODEL REPORT\n",
      "================================================================================\n",
      "    ============================================================================\n",
      "    Measurement model parameters\n",
      "    ============================================================================\n",
      "          model_name                                                              binary                        \n",
      "          class_no                                                                     0       1       2       3\n",
      "          param variable                                                                                        \n",
      "          pis   I appreciate it as art                                            0.2965  0.5514  0.9161  0.9599\n",
      "                I just inherently enjoy listening to it                           0.5069  0.8572  0.9789  0.9676\n",
      "                I keep it on in the background                                    0.4032  0.9028  0.5567  0.9835\n",
      "                I think it will either make me smarter or make me appear smarter  0.0227  0.0142  0.0448  0.2226\n",
      "                I use it to chill out and relax                                   0.7261  0.9953  0.9148  1.0000\n",
      "                I use it to concentrate or focus                                  0.2452  0.8515  0.4186  0.9238\n",
      "                I use it to entertain people at social functions                  0.1136  0.3474  0.5214  0.7589\n",
      "                I use it to express my personality and self-identity              0.2312  0.4646  0.7863  0.9474\n",
      "                I use it to get energized                                         0.5238  0.9268  0.8375  0.9915\n",
      "                I use it to understand history and culture                        0.0323  0.0418  0.1695  0.5099\n",
      "                I use it when I am bored - to pass the time                       0.4204  0.7738  0.6140  0.9035\n",
      "    ============================================================================\n",
      "    Class weights\n",
      "    ============================================================================\n",
      "        Class 1 : 0.18\n",
      "        Class 2 : 0.32\n",
      "        Class 3 : 0.21\n",
      "        Class 4 : 0.29\n",
      "    ============================================================================\n",
      "    Fit for 4 latent classes\n",
      "    ============================================================================\n",
      "    Estimation method             : 1-step\n",
      "    Number of observations        : 1375\n",
      "    Number of latent classes      : 4\n",
      "    Number of estimated parameters: 47\n",
      "    Log-likelihood (LL)           : -6987.6901\n",
      "    -2LL                          : 13975.3803\n",
      "    Average LL                    : -5.0820\n",
      "    AIC                           : 14069.38\n",
      "    BIC                           : 14315.01\n",
      "    CAIC                          : 14362.01\n",
      "    Sample-Size Adjusted BIC      : 14505.34\n",
      "    Entropy                       : 783.5064\n",
      "    Scaled Relative Entropy       : 0.5890\n"
     ]
    },
    {
     "name": "stderr",
     "output_type": "stream",
     "text": [
      "\n"
     ]
    },
    {
     "data": {
      "text/html": [
       "<style>#sk-container-id-2 {color: black;background-color: white;}#sk-container-id-2 pre{padding: 0;}#sk-container-id-2 div.sk-toggleable {background-color: white;}#sk-container-id-2 label.sk-toggleable__label {cursor: pointer;display: block;width: 100%;margin-bottom: 0;padding: 0.3em;box-sizing: border-box;text-align: center;}#sk-container-id-2 label.sk-toggleable__label-arrow:before {content: \"▸\";float: left;margin-right: 0.25em;color: #696969;}#sk-container-id-2 label.sk-toggleable__label-arrow:hover:before {color: black;}#sk-container-id-2 div.sk-estimator:hover label.sk-toggleable__label-arrow:before {color: black;}#sk-container-id-2 div.sk-toggleable__content {max-height: 0;max-width: 0;overflow: hidden;text-align: left;background-color: #f0f8ff;}#sk-container-id-2 div.sk-toggleable__content pre {margin: 0.2em;color: black;border-radius: 0.25em;background-color: #f0f8ff;}#sk-container-id-2 input.sk-toggleable__control:checked~div.sk-toggleable__content {max-height: 200px;max-width: 100%;overflow: auto;}#sk-container-id-2 input.sk-toggleable__control:checked~label.sk-toggleable__label-arrow:before {content: \"▾\";}#sk-container-id-2 div.sk-estimator input.sk-toggleable__control:checked~label.sk-toggleable__label {background-color: #d4ebff;}#sk-container-id-2 div.sk-label input.sk-toggleable__control:checked~label.sk-toggleable__label {background-color: #d4ebff;}#sk-container-id-2 input.sk-hidden--visually {border: 0;clip: rect(1px 1px 1px 1px);clip: rect(1px, 1px, 1px, 1px);height: 1px;margin: -1px;overflow: hidden;padding: 0;position: absolute;width: 1px;}#sk-container-id-2 div.sk-estimator {font-family: monospace;background-color: #f0f8ff;border: 1px dotted black;border-radius: 0.25em;box-sizing: border-box;margin-bottom: 0.5em;}#sk-container-id-2 div.sk-estimator:hover {background-color: #d4ebff;}#sk-container-id-2 div.sk-parallel-item::after {content: \"\";width: 100%;border-bottom: 1px solid gray;flex-grow: 1;}#sk-container-id-2 div.sk-label:hover label.sk-toggleable__label {background-color: #d4ebff;}#sk-container-id-2 div.sk-serial::before {content: \"\";position: absolute;border-left: 1px solid gray;box-sizing: border-box;top: 0;bottom: 0;left: 50%;z-index: 0;}#sk-container-id-2 div.sk-serial {display: flex;flex-direction: column;align-items: center;background-color: white;padding-right: 0.2em;padding-left: 0.2em;position: relative;}#sk-container-id-2 div.sk-item {position: relative;z-index: 1;}#sk-container-id-2 div.sk-parallel {display: flex;align-items: stretch;justify-content: center;background-color: white;position: relative;}#sk-container-id-2 div.sk-item::before, #sk-container-id-2 div.sk-parallel-item::before {content: \"\";position: absolute;border-left: 1px solid gray;box-sizing: border-box;top: 0;bottom: 0;left: 50%;z-index: -1;}#sk-container-id-2 div.sk-parallel-item {display: flex;flex-direction: column;z-index: 1;position: relative;background-color: white;}#sk-container-id-2 div.sk-parallel-item:first-child::after {align-self: flex-end;width: 50%;}#sk-container-id-2 div.sk-parallel-item:last-child::after {align-self: flex-start;width: 50%;}#sk-container-id-2 div.sk-parallel-item:only-child::after {width: 0;}#sk-container-id-2 div.sk-dashed-wrapped {border: 1px dashed gray;margin: 0 0.4em 0.5em 0.4em;box-sizing: border-box;padding-bottom: 0.4em;background-color: white;}#sk-container-id-2 div.sk-label label {font-family: monospace;font-weight: bold;display: inline-block;line-height: 1.2em;}#sk-container-id-2 div.sk-label-container {text-align: center;}#sk-container-id-2 div.sk-container {/* jupyter's `normalize.less` sets `[hidden] { display: none; }` but bootstrap.min.css set `[hidden] { display: none !important; }` so we also need the `!important` here to be able to override the default hidden behavior on the sphinx rendered scikit-learn.org. See: https://github.com/scikit-learn/scikit-learn/issues/21755 */display: inline-block !important;position: relative;}#sk-container-id-2 div.sk-text-repr-fallback {display: none;}</style><div id=\"sk-container-id-2\" class=\"sk-top-container\"><div class=\"sk-text-repr-fallback\"><pre>StepMix(measurement=&#x27;binary&#x27;, n_components=4, random_state=412, verbose=1)</pre><b>In a Jupyter environment, please rerun this cell to show the HTML representation or trust the notebook. <br />On GitHub, the HTML representation is unable to render, please try loading this page with nbviewer.org.</b></div><div class=\"sk-container\" hidden><div class=\"sk-item\"><div class=\"sk-estimator sk-toggleable\"><input class=\"sk-toggleable__control sk-hidden--visually\" id=\"sk-estimator-id-2\" type=\"checkbox\" checked><label for=\"sk-estimator-id-2\" class=\"sk-toggleable__label sk-toggleable__label-arrow\">StepMix</label><div class=\"sk-toggleable__content\"><pre>StepMix(measurement=&#x27;binary&#x27;, n_components=4, random_state=412, verbose=1)</pre></div></div></div></div></div>"
      ],
      "text/plain": [
       "StepMix(measurement='binary', n_components=4, random_state=412, verbose=1)"
      ]
     },
     "execution_count": 7,
     "metadata": {},
     "output_type": "execute_result"
    }
   ],
   "source": [
    "model_usage = StepMix(n_components = 4, measurement=\"binary\", verbose = 1, random_state=412)\n",
    "model_usage.fit(usage)"
   ]
  },
  {
   "cell_type": "code",
   "execution_count": 8,
   "id": "399381ed-d966-4723-9526-a4745908b1c3",
   "metadata": {},
   "outputs": [],
   "source": [
    "genres_proba = [max(i) for i in model_genres.predict_proba(genres)]\n",
    "usage_proba = [max(i) for i in model_usage.predict_proba(usage)]"
   ]
  },
  {
   "cell_type": "code",
   "execution_count": 9,
   "id": "46d9336f-99c9-4676-86e6-9a435f71d162",
   "metadata": {
    "tags": []
   },
   "outputs": [
    {
     "data": {
      "image/png": "[encoded data removed]",
      "text/plain": [
       "<Figure size 640x480 with 1 Axes>"
      ]
     },
     "metadata": {},
     "output_type": "display_data"
    },
    {
     "data": {
      "image/png": "[encoded data removed]",
      "text/plain": [
       "<Figure size 640x480 with 1 Axes>"
      ]
     },
     "metadata": {},
     "output_type": "display_data"
    }
   ],
   "source": [
    "plt.hist(genres_proba, bins = 50, ec = \"black\", color = \"gray\", alpha = 0.3)\n",
    "plt.text(0.3, 350, f'Mean Likelihood: {round(np.mean(genres_proba), 4)}', fontsize=12, color='orange', alpha = 1)\n",
    "plt.xlabel(\"Likelihood\")\n",
    "plt.ylabel(\"Frequency\")\n",
    "plt.show()\n",
    "\n",
    "plt.hist(usage_proba, bins = 50, ec = \"black\", color = \"gray\", alpha = 0.3)\n",
    "plt.text(0.35, 150, f'Mean Likelihood: {round(np.mean(usage_proba), 4)}', fontsize=12, color='orange', alpha = 1)\n",
    "plt.xlabel(\"Likelihood\")\n",
    "plt.ylabel(\"Frequency\")\n",
    "plt.show()"
   ]
  },
  {
   "cell_type": "markdown",
   "id": "85361aae-8cf8-4e09-943c-988351452702",
   "metadata": {},
   "source": [
    "## Genres Model Subplots (2*3)"
   ]
  },
  {
   "cell_type": "code",
   "execution_count": 10,
   "id": "78dcb37e-8d6a-41cc-8184-52a1807c5f4c",
   "metadata": {
    "tags": []
   },
   "outputs": [],
   "source": [
    "genre_class = pd.DataFrame(model_genres.predict(genres))\n",
    "genre_usage = pd.DataFrame(model_usage.predict(usage))\n",
    "\n",
    "original_ses = df.iloc[1:, [-3]]\n",
    "ses_dict = {\n",
    "    'Upper class': 5,\n",
    "    'Upper middle class': 4,\n",
    "    'Middle class': 3,\n",
    "    'Lower middle class': 2,\n",
    "    'At or below poverty line': 1\n",
    "}\n",
    "for i in range(len(original_ses)):\n",
    "    cls = original_ses.iloc[i, 0]\n",
    "    original_ses.iloc[i, 0] = ses_dict.get(cls, -1)\n",
    "    \n",
    "genres_class_ses = pd.merge(genre_class, clean_ses(df), left_index = True, right_index = True)"
   ]
  },
  {
   "cell_type": "code",
   "execution_count": 11,
   "id": "de60570c-0579-44fb-ab98-d7319ebcbe27",
   "metadata": {
    "tags": []
   },
   "outputs": [],
   "source": [
    "def booststrap_1000_genres(class_num) -> tuple():\n",
    "    genres_class = pd.DataFrame(model_genres.predict(genres))\n",
    "    lower_percent_list = []\n",
    "    upper_percent_list = []\n",
    "    for i in range(1000):\n",
    "        tmp_genres_class_ses = resample(genres_class_ses)\n",
    "        tmp_lower = tmp_genres_class_ses[tmp_genres_class_ses[tmp_genres_class_ses.columns[1]] == \"Lower\"]\n",
    "        tmp_upper = tmp_genres_class_ses[tmp_genres_class_ses[tmp_genres_class_ses.columns[1]] == \"Upper\"]\n",
    "        tmp_class_lower_count = len(tmp_lower[tmp_lower[0] == class_num])\n",
    "        tmp_class_upper_count = len(tmp_upper[tmp_upper[0] == class_num])\n",
    "        lower_percent = tmp_class_lower_count/lower_count\n",
    "        upper_percent = tmp_class_upper_count/upper_count\n",
    "        lower_percent_list.append(lower_percent)\n",
    "        upper_percent_list.append(upper_percent)\n",
    "        \n",
    "    lower_mean = np.mean(lower_percent_list)\n",
    "    upper_mean = np.mean(upper_percent_list)\n",
    "    lower_sigma = np.std(lower_percent_list)\n",
    "    upper_sigma = np.std(upper_percent_list)\n",
    "    \n",
    "    lower_lower, lower_upper = scipy.stats.norm.interval(0.95, loc=lower_mean, scale=lower_sigma)\n",
    "    upper_lower, upper_upper = scipy.stats.norm.interval(0.95, loc=upper_mean, scale=upper_sigma)\n",
    "    \n",
    "    return [[np.mean(lower_percent_list) - lower_lower, lower_upper - np.mean(lower_percent_list)],\n",
    "            [np.mean(upper_percent_list) - upper_lower, upper_upper - np.mean(upper_percent_list)]]"
   ]
  },
  {
   "cell_type": "code",
   "execution_count": 13,
   "id": "341463ee-1dad-4e1b-9724-d716f3fb9fe5",
   "metadata": {
    "tags": []
   },
   "outputs": [],
   "source": [
    "upper_class = genres_class_ses[genres_class_ses[genres_class_ses.columns[1]] == \"Upper\"]\n",
    "upper_count = len(genres_class_ses[genres_class_ses[genres_class_ses.columns[1]] == \"Upper\"])\n",
    "class_upper_array = [upper_class[upper_class[upper_class.columns[0]] == i] for i in range(6)]\n",
    "class_upper_count = [len(upper_class[upper_class[upper_class.columns[0]] == i]) for i in range(6)]\n",
    "lower_class = genres_class_ses[genres_class_ses[genres_class_ses.columns[1]] == \"Lower\"]\n",
    "lower_count = len(genres_class_ses[genres_class_ses[genres_class_ses.columns[1]] == \"Lower\"])\n",
    "class_lower_array = [lower_class[lower_class[lower_class.columns[0]] == i] for i in range(6)]\n",
    "class_lower_count = [len(lower_class[lower_class[lower_class.columns[0]] == i]) for i in range(6)]\n",
    "class_lower_upper_percent = [(class_upper_count[i]/upper_count, class_lower_count[i]/lower_count) for i in range(6)]"
   ]
  },
  {
   "cell_type": "code",
   "execution_count": 14,
   "id": "57152e4c-5aa5-4d00-87e0-b69233c2b1c5",
   "metadata": {
    "tags": []
   },
   "outputs": [
    {
     "data": {
      "image/png": "[encoded data removed]",
      "text/plain": [
       "<Figure size 1200x1000 with 6 Axes>"
      ]
     },
     "metadata": {},
     "output_type": "display_data"
    }
   ],
   "source": [
    "fig, axs = plt.subplots(2, 3, figsize=(12, 10))\n",
    "\n",
    "ses = ['Lower', 'Upper']\n",
    "\n",
    "for i in range(2):\n",
    "    for j in range(3):\n",
    "        class_percent = list(class_lower_upper_percent[i*3+j])\n",
    "        axs[i, j].bar(ses, class_percent, color = \"gray\", width = 0.4, yerr = booststrap_1000_genres(i*3+j), ecolor = \"orange\", alpha = 0.3)\n",
    "        axs[i, j].set_xlabel(\"SES\")\n",
    "        axs[i, j].set_ylabel(f\"Class {i*3+j} Percentage\")\n",
    "\n",
    "plt.tight_layout()\n",
    "plt.show()"
   ]
  },
  {
   "cell_type": "markdown",
   "id": "7dc0cce1-10d8-4c5c-8337-09f23b3c47bf",
   "metadata": {},
   "source": [
    "## Usage Model Subplots (1*4)"
   ]
  },
  {
   "cell_type": "code",
   "execution_count": 15,
   "id": "48e6f4f0-9c9b-4707-b168-518f09775d61",
   "metadata": {
    "tags": []
   },
   "outputs": [],
   "source": [
    "def booststrap_1000_usage(class_num) -> tuple():\n",
    "    usage_class = pd.DataFrame(model_usage.predict(usage))\n",
    "    lower_percent_list = []\n",
    "    upper_percent_list = []\n",
    "    for i in range(1000):\n",
    "        tmp_usage_class_ses = resample(usage_class_ses)\n",
    "        tmp_lower = tmp_usage_class_ses[tmp_usage_class_ses[tmp_usage_class_ses.columns[1]] == \"Lower\"]\n",
    "        tmp_upper = tmp_usage_class_ses[tmp_usage_class_ses[tmp_usage_class_ses.columns[1]] == \"Upper\"]\n",
    "        tmp_class_lower_count = len(tmp_lower[tmp_lower[0] == class_num])\n",
    "        tmp_class_upper_count = len(tmp_upper[tmp_upper[0] == class_num])\n",
    "        lower_percent = tmp_class_lower_count/lower_count\n",
    "        upper_percent = tmp_class_upper_count/upper_count\n",
    "        lower_percent_list.append(lower_percent)\n",
    "        upper_percent_list.append(upper_percent)\n",
    "        \n",
    "    lower_mean = np.mean(lower_percent_list)\n",
    "    upper_mean = np.mean(upper_percent_list)\n",
    "    lower_sigma = np.std(lower_percent_list)\n",
    "    upper_sigma = np.std(upper_percent_list)\n",
    "    \n",
    "    lower_lower, lower_upper = scipy.stats.norm.interval(0.95, loc=lower_mean, scale=lower_sigma)\n",
    "    upper_lower, upper_upper = scipy.stats.norm.interval(0.95, loc=upper_mean, scale=upper_sigma)\n",
    "    \n",
    "    return [[np.mean(lower_percent_list) - lower_lower, lower_upper - np.mean(lower_percent_list)],\n",
    "            [np.mean(upper_percent_list) - upper_lower, upper_upper - np.mean(upper_percent_list)]]"
   ]
  },
  {
   "cell_type": "code",
   "execution_count": 16,
   "id": "19a23846-f5c8-4064-b052-eb9f746f4921",
   "metadata": {
    "tags": []
   },
   "outputs": [],
   "source": [
    "usage_class = pd.DataFrame(model_usage.predict(usage))\n",
    "usage_class_ses = pd.merge(usage_class, clean_ses(df), left_index = True, right_index = True)"
   ]
  },
  {
   "cell_type": "code",
   "execution_count": 17,
   "id": "bd64abd5-2e1b-4525-b2e6-9d8b593b6808",
   "metadata": {
    "tags": []
   },
   "outputs": [],
   "source": [
    "upper_class = usage_class_ses[usage_class_ses[usage_class_ses.columns[1]] == \"Upper\"]\n",
    "upper_count = len(usage_class_ses[usage_class_ses[usage_class_ses.columns[1]] == \"Upper\"])\n",
    "class_upper_array = [upper_class[upper_class[upper_class.columns[0]] == i] for i in range(4)]\n",
    "class_upper_count = [len(upper_class[upper_class[upper_class.columns[0]] == i]) for i in range(4)]\n",
    "lower_class = usage_class_ses[usage_class_ses[usage_class_ses.columns[1]] == \"Lower\"]\n",
    "lower_count = len(usage_class_ses[usage_class_ses[usage_class_ses.columns[1]] == \"Lower\"])\n",
    "class_lower_array = [lower_class[lower_class[lower_class.columns[0]] == i] for i in range(4)]\n",
    "class_lower_count = [len(lower_class[lower_class[lower_class.columns[0]] == i]) for i in range(4)]\n",
    "class_lower_upper_percent = [(class_upper_count[i]/upper_count, class_lower_count[i]/lower_count) for i in range(4)]"
   ]
  },
  {
   "cell_type": "code",
   "execution_count": 18,
   "id": "5fb080f0-7b2b-4b7c-a4aa-f51555c81aa7",
   "metadata": {
    "tags": []
   },
   "outputs": [
    {
     "data": {
      "image/png": "[encoded data removed]",
      "text/plain": [
       "<Figure size 1200x600 with 4 Axes>"
      ]
     },
     "metadata": {},
     "output_type": "display_data"
    }
   ],
   "source": [
    "fig, axs = plt.subplots(1, 4, figsize=(12, 6))\n",
    "\n",
    "ses = ['Lower', 'Upper']\n",
    "\n",
    "for i in range(4):\n",
    "    class_percent = list(class_lower_upper_percent[i])\n",
    "    axs[i].bar(ses, class_percent, color = \"gray\", width = 0.6, yerr = booststrap_1000_usage(i), ecolor = \"orange\", alpha = 0.3)\n",
    "    axs[i].set_xlabel(\"SES\")\n",
    "    axs[i].set_ylabel(f\"Class {i} Percentage\")\n",
    "\n",
    "plt.tight_layout()\n",
    "plt.show()\n",
    "#1. the xlabel need to be italic\n",
    "#2. remove the box\n",
    "#3. y range should be the same"
   ]
  },
  {
   "cell_type": "code",
   "execution_count": null,
   "id": "75a73c9f-bc47-4e8b-b849-718fd12308a7",
   "metadata": {},
   "outputs": [],
   "source": []
  },
  {
   "cell_type": "code",
   "execution_count": null,
   "id": "a4eae609-c720-40aa-8cd2-eb658f79dc26",
   "metadata": {},
   "outputs": [],
   "source": []
  },
  {
   "cell_type": "code",
   "execution_count": null,
   "id": "4d6e87dd-f247-4154-a4cf-202c3c60a8a9",
   "metadata": {},
   "outputs": [],
   "source": []
  }
 ],
 "metadata": {
  "kernelspec": {
   "display_name": "Python 3 (ipykernel)",
   "language": "python",
   "name": "python3"
  },
  "language_info": {
   "codemirror_mode": {
    "name": "ipython",
    "version": 3
   },
   "file_extension": ".py",
   "mimetype": "text/x-python",
   "name": "python",
   "nbconvert_exporter": "python",
   "pygments_lexer": "ipython3",
   "version": "3.11.3"
  }
 },
 "nbformat": 4,
 "nbformat_minor": 5
}
