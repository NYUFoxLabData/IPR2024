{
 "cells": [
  {
   "cell_type": "code",
   "execution_count": 1,
   "id": "4dc55eb4-053f-4954-8303-9d51c23e34cc",
   "metadata": {
    "tags": []
   },
   "outputs": [],
   "source": [
    "import numpy as np\n",
    "import pandas as pd\n",
    "import matplotlib.pyplot as plt\n",
    "import seaborn as sns\n",
    "import sklearn\n",
    "import scipy\n",
    "from sklearn.utils import resample"
   ]
  },
  {
   "cell_type": "code",
   "execution_count": 2,
   "id": "828e5fdf-60a7-4959-aae6-f0df23ab0e9a",
   "metadata": {
    "tags": []
   },
   "outputs": [],
   "source": [
    "df = pd.read_csv(\"Music_preference_prescreening_survey.csv\")\n",
    "\n",
    "cols_of_interest = {\n",
    "    \"gender\" : \"What is your gender?\",\n",
    "    \"environment\" : \"I grew up in a(n) ... area.\",\n",
    "    \"race\" : \"What is your race/ethnicity?\",\n",
    "    \"politics\" : \"What are your political views? (pick closest)\",\n",
    "    \"religion\" : \"What are your religious views? (pick closest)\",\n",
    "    \"instrument\" : \"How many music instruments do you play?\"\n",
    "}\n",
    "\n",
    "def clean_instrument(df: pd.DataFrame) -> pd.DataFrame:\n",
    "    \"\"\"\n",
    "    Cleans and aggregates instrument playing data from the input DataFrame.\n",
    "\n",
    "    This function selects specific columns related to musical instruments played by respondents,\n",
    "    converts non-numeric (NaN) values to 0, numeric values to 1, and sums up the total number\n",
    "    of instruments played by each respondent. The summed value is then added as a new column\n",
    "    to the original DataFrame.\n",
    "\n",
    "    Parameters:\n",
    "    - df (pd.DataFrame): The input DataFrame containing raw data.\n",
    "\n",
    "    Returns:\n",
    "    - pd.DataFrame: The original DataFrame with an added 'instrument' column representing the\n",
    "      total number of instruments played by each respondent.\n",
    "    \"\"\"\n",
    "    # Selecting specified columns for instrument data and initializing with binary representation\n",
    "    instrument = df.iloc[1:, [i for i in range(33, 53, 4)]]\n",
    "    \n",
    "    for i in range(instrument.shape[1]):\n",
    "        # Mapping non-numeric to 0 and numeric to 1\n",
    "        instrument[instrument.columns[i]] = instrument.iloc[:, i].map(lambda x: 0 if x != x else 1)\n",
    "    # Summing up the number of instruments played by each respondent\n",
    "    instrument = instrument.T.sum().to_frame().rename(columns={0: 'instrument'})\n",
    "\n",
    "    # Adding the aggregated instrument data to the original DataFrame\n",
    "    df[\"How many music instruments do you play?\"] = instrument\n",
    "    # Get column names\n",
    "    columns = df.columns.tolist()\n",
    "    # Switch last column to the first position\n",
    "    columns = columns[:-2] + [columns[-1]]\n",
    "    # Reorder DataFrame columns\n",
    "    df = df[columns]\n",
    "    \n",
    "    return df\n",
    "\n",
    "def clean_genres(df: pd.DataFrame) -> pd.DataFrame:\n",
    "    \"\"\"\n",
    "    Cleans and aggregates musical genre preference data from the input DataFrame.\n",
    "\n",
    "    This function selects columns related to musical genres, converts non-numeric (NaN)\n",
    "    values to 0, numeric values to 1, and sums the preferences across genres for each\n",
    "    respondent. The summed values are returned as a new DataFrame.\n",
    "\n",
    "    Parameters:\n",
    "    - df (pd.DataFrame): The input DataFrame containing raw data.\n",
    "\n",
    "    Returns:\n",
    "    - pd.DataFrame: A new DataFrame with a single 'genres' column representing the total\n",
    "      number of genres preferred by each respondent.\n",
    "    \"\"\"\n",
    "    # Selecting and cleaning genre data\n",
    "    genres = df.iloc[1:, 57:84].iloc[:, [2, 12, 15]]\n",
    "    for i in range(genres.shape[1]):\n",
    "        genres[genres.columns[i]] = genres.iloc[:, i].map(lambda x: 0 if x != x else 1)\n",
    "    genres = genres.T.sum().to_frame().rename(columns={0: 'genres'})\n",
    "\n",
    "    return genres\n",
    "\n",
    "def clean_usage(df: pd.DataFrame) -> pd.DataFrame:\n",
    "    \"\"\"\n",
    "    Cleans and aggregates data on the usage of various services or products from the input DataFrame.\n",
    "\n",
    "    Parameters:\n",
    "    - df (pd.DataFrame): The input DataFrame containing raw data.\n",
    "\n",
    "    Returns:\n",
    "    - pd.DataFrame: A new DataFrame with a 'usage' column, summarizing the total usage count\n",
    "      across the selected services or products for each respondent.\n",
    "    \"\"\"\n",
    "    # Selecting and cleaning usage data\n",
    "    usage = df.iloc[1:, 21:32]\n",
    "    for i in range(usage.shape[1]):\n",
    "        usage[usage.columns[i]] = usage.iloc[:, i].map(lambda x: 0 if x != x else 1)\n",
    "    usage = usage.T.sum().to_frame().rename(columns={0: 'usage'})\n",
    "\n",
    "    return usage\n",
    "\n",
    "def clean_ses(df: pd.DataFrame) -> pd.DataFrame:\n",
    "    \"\"\"\n",
    "    Cleans and categorizes socio-economic status (SES) data from the input DataFrame.\n",
    "\n",
    "    Maps the SES descriptions to numeric values, excludes middle class data, and then categorizes\n",
    "    the remaining data into 'Upper' or 'Lower' SES groups.\n",
    "\n",
    "    Parameters:\n",
    "    - df (pd.DataFrame): The input DataFrame containing raw SES data.\n",
    "\n",
    "    Returns:\n",
    "    - pd.DataFrame: A new DataFrame with a single column categorizing respondents into 'Upper' or 'Lower'\n",
    "      SES groups, excluding 'Middle class'.\n",
    "    \"\"\"\n",
    "    # Mapping SES descriptions to numeric values and re-categorizing\n",
    "    original_ses = df.iloc[1:, [-3]]\n",
    "    ses_dict = {\n",
    "        'Upper class': 5,\n",
    "        'Upper middle class': 4,\n",
    "        'Middle class': 3,\n",
    "        'Lower middle class': 2,\n",
    "        'At or below poverty line': 1\n",
    "    }\n",
    "    for i in range(len(original_ses)):\n",
    "        cls = original_ses.iloc[i, 0]\n",
    "        original_ses.iloc[i, 0] = ses_dict.get(cls, -1)\n",
    "    # Excluding 'Middle class' and categorizing into 'Upper' or 'Lower'\n",
    "    original_ses = original_ses[original_ses[original_ses.columns[0]] != 3].iloc[:, 0].map(lambda x: \"Lower\" if x < 3 else \"Upper\").to_frame()\n",
    "\n",
    "    return original_ses\n",
    "\n",
    "def join_df_ses(df: pd.DataFrame, ses: pd.DataFrame) -> pd.DataFrame:\n",
    "    \"\"\"\n",
    "    Joins the main DataFrame with the socio-economic status (SES) DataFrame based on their indices.\n",
    "\n",
    "    Parameters:\n",
    "    - df (pd.DataFrame): The main DataFrame.\n",
    "    - ses (pd.DataFrame): The DataFrame containing SES data.\n",
    "\n",
    "    Returns:\n",
    "    - pd.DataFrame: The result of an inner join between the main DataFrame and the SES DataFrame.\n",
    "    \"\"\"\n",
    "    # Performing an inner join based on DataFrame indices\n",
    "    return pd.merge(df, ses, left_index=True, right_index=True, how='inner')\n",
    "\n",
    "def get_top3_buckets(df: pd.DataFrame, col: str) -> list:\n",
    "    \"\"\"\n",
    "    Identifies the top 3 most common values (buckets) for a specified column in the DataFrame.\n",
    "\n",
    "    Parameters:\n",
    "    - df (pd.DataFrame): The DataFrame to analyze.\n",
    "    - col (str): The column name whose top 3 most common values are to be found.\n",
    "\n",
    "    Returns:\n",
    "    - list: A list containing the top 3 most common values in the specified column.\n",
    "    \"\"\"\n",
    "    # Accessing the column of interest\n",
    "    col_name = cols_of_interest[col]\n",
    "    # Retrieving the top 3 most common values\n",
    "    return [df[[col_name]].iloc[1:].value_counts().keys()[i][0] for i in range(3)]\n",
    "\n",
    "def stratification(df: pd.DataFrame, joined_df_ses: pd.DataFrame, col: str, bucket: int) -> pd.DataFrame:\n",
    "    \"\"\"\n",
    "    Stratifies a DataFrame based on the top 3 buckets of a specific column and merges it with SES data.\n",
    "\n",
    "    Parameters:\n",
    "    - df (pd.DataFrame): The original DataFrame.\n",
    "    - joined_df_ses (pd.DataFrame): The DataFrame containing joined SES data.\n",
    "    - col (str): The column name used for stratification.\n",
    "    - bucket (int): The specific bucket (1, 2, or 3) to filter by, or any other value to exclude these top 3.\n",
    "\n",
    "    Returns:\n",
    "    - pd.DataFrame: A stratified DataFrame filtered by the specified bucket and merged with SES data.\n",
    "    \"\"\"\n",
    "    # Getting the top 3 buckets for stratification\n",
    "    top3_bucket = get_top3_buckets(df, col)\n",
    "    col_name = cols_of_interest[col]\n",
    "    # Merging with SES data based on stratification criteria\n",
    "    joined_tabs = pd.merge(joined_df_ses, df[col_name], left_index=True, right_index=True, how='inner')\n",
    "    if bucket in [1, 2, 3]:\n",
    "        # Filtering by the specific bucket\n",
    "        return joined_tabs[joined_tabs[col_name] == top3_bucket[bucket-1]]\n",
    "    else:\n",
    "        # Excluding the top 3 buckets\n",
    "        return joined_tabs[~joined_tabs[col_name].isin(top3_bucket)]\n",
    "\n",
    "def stratified_t_test(stratified_df: pd.DataFrame) -> float:\n",
    "    \"\"\"\n",
    "    Performs a t-test to compare means between two stratified groups based on SES ('Upper' vs 'Lower').\n",
    "\n",
    "    Parameters:\n",
    "    - stratified_df (pd.DataFrame): The DataFrame containing stratified data along with SES categorization.\n",
    "\n",
    "    Returns:\n",
    "    - float: The p-value from the t-test comparing the means of the two groups.\n",
    "    \"\"\"\n",
    "    # Conducting a t-test between 'Upper' and 'Lower' SES groups\n",
    "    res = scipy.stats.ttest_ind(\n",
    "        stratified_df[stratified_df[stratified_df.columns[1]] == \"Upper\"][stratified_df.columns[0]],\n",
    "        stratified_df[stratified_df[stratified_df.columns[1]] == \"Lower\"][stratified_df.columns[0]]\n",
    "    )\n",
    "\n",
    "    return res\n",
    "\n",
    "def bootstrap_mean_ci(data, n_bootstrap_samples = 10000, ci=95):\n",
    "    bootstrap_means = np.empty(n_bootstrap_samples)\n",
    "    for i in range(n_bootstrap_samples):\n",
    "        bootstrap_sample = np.random.choice(data, size=len(data), replace=True)\n",
    "        bootstrap_means[i] = np.mean(bootstrap_sample)\n",
    "    lower_bound = np.percentile(bootstrap_means, (100-ci)/2)\n",
    "    upper_bound = np.percentile(bootstrap_means, 100-(100-ci)/2)\n",
    "    \n",
    "    return [np.mean(bootstrap_means) - lower_bound, upper_bound - np.mean(bootstrap_means)]\n",
    "\n",
    "df = clean_instrument(df)"
   ]
  },
  {
   "cell_type": "code",
   "execution_count": 15,
   "id": "0784d9eb-6d26-4e28-a5c7-a174253d050e",
   "metadata": {
    "tags": []
   },
   "outputs": [
    {
     "data": {
      "text/plain": [
       "Ttest_indResult(statistic=1.683328395460433, pvalue=0.09263632373112948)"
      ]
     },
     "execution_count": 15,
     "metadata": {},
     "output_type": "execute_result"
    }
   ],
   "source": [
    "tmp = pd.merge(clean_genres(df), clean_ses(df), left_index = True, right_index = True)\n",
    "tmp_up = tmp[tmp[tmp.columns[1]] == \"Upper\"].iloc[:,0]\n",
    "tmp_low = tmp[tmp[tmp.columns[1]] == \"Lower\"].iloc[:,0]\n",
    "res = scipy.stats.ttest_ind(tmp_up, tmp_low)\n",
    "res"
   ]
  },
  {
   "cell_type": "code",
   "execution_count": 16,
   "id": "c9363dac-5847-4433-9994-469c9aa70ab5",
   "metadata": {
    "tags": []
   },
   "outputs": [
    {
     "data": {
      "text/plain": [
       "961"
      ]
     },
     "execution_count": 16,
     "metadata": {},
     "output_type": "execute_result"
    }
   ],
   "source": [
    "degree_of_freedom = len(tmp_up) + len(tmp_low) - 2 \n",
    "degree_of_freedom"
   ]
  },
  {
   "cell_type": "code",
   "execution_count": 22,
   "id": "b5703de2-e96f-48b8-b63e-cd3a4999ac8e",
   "metadata": {
    "tags": []
   },
   "outputs": [
    {
     "data": {
      "image/png": "[encoded data removed]",
      "text/plain": [
       "<Figure size 640x480 with 1 Axes>"
      ]
     },
     "metadata": {},
     "output_type": "display_data"
    }
   ],
   "source": [
    "ses = ['Lower', 'Upper']\n",
    "\n",
    "fig7 = [np.mean(tmp_low), np.mean(tmp_up)]\n",
    "plt.bar(ses, fig7, yerr = [bootstrap_mean_ci(tmp_low), bootstrap_mean_ci(tmp_up)], width = 0.4)\n",
    "plt.ylabel(\"Number of preferred music genres \")\n",
    "plt.show()"
   ]
  },
  {
   "cell_type": "code",
   "execution_count": null,
   "id": "d76a224f-1027-4bb0-8ca8-bb2a4d55c04f",
   "metadata": {},
   "outputs": [],
   "source": []
  },
  {
   "cell_type": "code",
   "execution_count": null,
   "id": "7661c507-e1b2-4f42-b4b1-50ba2d27f9b5",
   "metadata": {},
   "outputs": [],
   "source": []
  },
  {
   "cell_type": "code",
   "execution_count": null,
   "id": "65de2c68-0546-4ec3-8966-07abaa89fab3",
   "metadata": {},
   "outputs": [],
   "source": []
  }
 ],
 "metadata": {
  "kernelspec": {
   "display_name": "Python 3 (ipykernel)",
   "language": "python",
   "name": "python3"
  },
  "language_info": {
   "codemirror_mode": {
    "name": "ipython",
    "version": 3
   },
   "file_extension": ".py",
   "mimetype": "text/x-python",
   "name": "python",
   "nbconvert_exporter": "python",
   "pygments_lexer": "ipython3",
   "version": "3.9.21"
  }
 },
 "nbformat": 4,
 "nbformat_minor": 5
}
