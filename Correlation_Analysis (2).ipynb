{
 "cells": [
  {
   "cell_type": "code",
   "execution_count": null,
   "id": "4e4366ed-3f60-412e-ba92-ba9f6ccd3812",
   "metadata": {},
   "outputs": [],
   "source": [
    "!pip install numpy pandas matplotlib seaborn scikit-learn scipy"
   ]
  },
  {
   "cell_type": "code",
   "execution_count": 5,
   "id": "ae7b8f9a-66aa-4676-9259-59599f4b39f4",
   "metadata": {},
   "outputs": [],
   "source": [
    "import numpy as np\n",
    "import pandas as pd\n",
    "import matplotlib.pyplot as plt\n",
    "import seaborn as sns\n",
    "import sklearn\n",
    "import scipy\n",
    "sns.set()"
   ]
  },
  {
   "cell_type": "markdown",
   "id": "0d69d081-bf06-4429-9468-69ab22e8929f",
   "metadata": {},
   "source": [
    "# Dependent Variables"
   ]
  },
  {
   "cell_type": "code",
   "execution_count": 219,
   "id": "2b81fd26-b356-4dca-a9be-dadf867fb51d",
   "metadata": {},
   "outputs": [],
   "source": [
    "df = pd.read_csv(\"Music_preference_prescreening_survey.csv\")\n",
    "\n",
    "# ordinal\n",
    "ratings = df.iloc[1:, 11:20] # explicit ratings for each genre\n",
    "importance = df.iloc[1:, 55]\n",
    "\n",
    "ratings_dict = {\n",
    "    \"Favorite\" : 5,\n",
    "    \"Enjoy/Seek out\" : 4,\n",
    "    \"Don't mind, but don't seek out\" : 3,\n",
    "    \"Aversive/Avoid\" : 2,\n",
    "    \"Least Favorite\" : 1\n",
    "}\n",
    "\n",
    "importance_dict = {\n",
    "    \"Music is my life\" : 4,\n",
    "    \"It plays a big role in my life\" : 3,\n",
    "    \"It plays a small role in my life\" : 2,\n",
    "    \"It plays no role in my life\" : 1\n",
    "}\n",
    "\n",
    "# categorical\n",
    "usage = df.iloc[1:, 21:32] # self reported music usage\n",
    "isInstrmental = [i==i for i in df.iloc[1:, 33]] # if plays an instrument or not\n",
    "instrument = df.iloc[1:, [i for i in range(33, 53, 4)]]\n",
    "instrumentLyrics = df.iloc[1:, 56] # instruments vs lyrics\n",
    "genres = df.iloc[1:, 57:84]\n",
    "engagement = df.iloc[1:, 84: 100]\n",
    "\n",
    "# numerial\n",
    "timeSpent = df.iloc[1:, 54]"
   ]
  },
  {
   "cell_type": "code",
   "execution_count": 220,
   "id": "104a8df8-9ead-4c76-9320-6b8d83b5c5f5",
   "metadata": {},
   "outputs": [],
   "source": [
    "# Mapping\n",
    "for i in range(len(ratings)):\n",
    "    for j in range(ratings.shape[1]):\n",
    "        rat = ratings.iloc[i, j]\n",
    "        if rat in ratings_dict.keys():\n",
    "            ratings.iloc[i, j] = ratings_dict[rat]\n",
    "        else:\n",
    "            ratings.iloc[i, j] = -1\n",
    "\n",
    "for i in range(len(importance)):\n",
    "    imp = importance.iloc[i]\n",
    "    if imp in importance_dict.keys():\n",
    "        importance.iloc[i] = importance_dict[imp]\n",
    "    else:\n",
    "        importance.iloc[i] = -1\n",
    "\n",
    "for i in range(instrument.shape[1]):\n",
    "    instrument[instrument.columns[i]] = instrument.iloc[:,i].map(lambda x: 0 if x != x else 1)\n",
    "\n",
    "instrument = instrument.T.sum().to_frame().rename(columns= {0: 'instrument'})\n",
    "\n",
    "for i in range(genres.shape[1]):\n",
    "    genres[genres.columns[i]] = genres.iloc[:,i].map(lambda x: 0 if x != x else 1)\n",
    "\n",
    "genres = genres.T.sum().to_frame().rename(columns= {0: 'genres'})\n",
    "\n",
    "for i in range(usage.shape[1]):\n",
    "    usage[usage.columns[i]] = usage.iloc[:,i].map(lambda x: 0 if x != x else 1)\n",
    "\n",
    "usage = usage.T.sum().to_frame().rename(columns= {0: 'usage'})"
   ]
  },
  {
   "cell_type": "markdown",
   "id": "2ed11c68-1e30-4f08-9e25-08fa572c2862",
   "metadata": {},
   "source": [
    "# Independent Variables"
   ]
  },
  {
   "cell_type": "code",
   "execution_count": 221,
   "id": "d80bdb4b-c5e7-4845-ae18-346f1385ba93",
   "metadata": {},
   "outputs": [],
   "source": [
    "ses_area = df.iloc[1:, [-3,-2]]\n",
    "original_ses = df.iloc[1:, [-3]]"
   ]
  },
  {
   "cell_type": "code",
   "execution_count": 222,
   "id": "dd53a367-dc5f-444d-8ad1-3693e00663b8",
   "metadata": {},
   "outputs": [
    {
     "data": {
      "text/html": [
       "<div>\n",
       "<style scoped>\n",
       "    .dataframe tbody tr th:only-of-type {\n",
       "        vertical-align: middle;\n",
       "    }\n",
       "\n",
       "    .dataframe tbody tr th {\n",
       "        vertical-align: top;\n",
       "    }\n",
       "\n",
       "    .dataframe thead th {\n",
       "        text-align: right;\n",
       "    }\n",
       "</style>\n",
       "<table border=\"1\" class=\"dataframe\">\n",
       "  <thead>\n",
       "    <tr style=\"text-align: right;\">\n",
       "      <th></th>\n",
       "      <th>What is your socioeconomic background?</th>\n",
       "      <th>I grew up in a(n) ... area.</th>\n",
       "    </tr>\n",
       "  </thead>\n",
       "  <tbody>\n",
       "    <tr>\n",
       "      <th>1</th>\n",
       "      <td>Upper class</td>\n",
       "      <td>Urban</td>\n",
       "    </tr>\n",
       "    <tr>\n",
       "      <th>2</th>\n",
       "      <td>Upper class</td>\n",
       "      <td>Suburban</td>\n",
       "    </tr>\n",
       "    <tr>\n",
       "      <th>3</th>\n",
       "      <td>Upper middle class</td>\n",
       "      <td>Urban</td>\n",
       "    </tr>\n",
       "    <tr>\n",
       "      <th>4</th>\n",
       "      <td>Middle class</td>\n",
       "      <td>Suburban</td>\n",
       "    </tr>\n",
       "    <tr>\n",
       "      <th>5</th>\n",
       "      <td>Upper middle class</td>\n",
       "      <td>Urban</td>\n",
       "    </tr>\n",
       "    <tr>\n",
       "      <th>...</th>\n",
       "      <td>...</td>\n",
       "      <td>...</td>\n",
       "    </tr>\n",
       "    <tr>\n",
       "      <th>1371</th>\n",
       "      <td>Upper class</td>\n",
       "      <td>Suburban</td>\n",
       "    </tr>\n",
       "    <tr>\n",
       "      <th>1372</th>\n",
       "      <td>Upper class</td>\n",
       "      <td>Suburban</td>\n",
       "    </tr>\n",
       "    <tr>\n",
       "      <th>1373</th>\n",
       "      <td>Lower middle class</td>\n",
       "      <td>Suburban</td>\n",
       "    </tr>\n",
       "    <tr>\n",
       "      <th>1374</th>\n",
       "      <td>Middle class</td>\n",
       "      <td>Urban</td>\n",
       "    </tr>\n",
       "    <tr>\n",
       "      <th>1375</th>\n",
       "      <td>Middle class</td>\n",
       "      <td>Suburban</td>\n",
       "    </tr>\n",
       "  </tbody>\n",
       "</table>\n",
       "<p>1375 rows × 2 columns</p>\n",
       "</div>"
      ],
      "text/plain": [
       "     What is your socioeconomic background? I grew up in a(n) ... area.\n",
       "1                               Upper class                       Urban\n",
       "2                               Upper class                    Suburban\n",
       "3                        Upper middle class                       Urban\n",
       "4                              Middle class                    Suburban\n",
       "5                        Upper middle class                       Urban\n",
       "...                                     ...                         ...\n",
       "1371                            Upper class                    Suburban\n",
       "1372                            Upper class                    Suburban\n",
       "1373                     Lower middle class                    Suburban\n",
       "1374                           Middle class                       Urban\n",
       "1375                           Middle class                    Suburban\n",
       "\n",
       "[1375 rows x 2 columns]"
      ]
     },
     "execution_count": 222,
     "metadata": {},
     "output_type": "execute_result"
    }
   ],
   "source": [
    "ses_area"
   ]
  },
  {
   "cell_type": "code",
   "execution_count": 223,
   "id": "653ff6dd-4d92-494d-a2e1-9da9297b5d98",
   "metadata": {},
   "outputs": [],
   "source": [
    "ses_dict = {\n",
    "    'Upper class' : 5,\n",
    "    'Upper middle class' : 4,\n",
    "    'Middle class' : 3,\n",
    "    'Lower middle class' : 2,\n",
    "    'At or below poverty line' : 1\n",
    "}\n",
    "\n",
    "area_dict = {\n",
    "    'Urban' : 0,\n",
    "    'Suburban' : -0.5,\n",
    "    'Rural' : -1\n",
    "}"
   ]
  },
  {
   "cell_type": "code",
   "execution_count": 224,
   "id": "d77e69e4-877b-4521-9410-656331ca4820",
   "metadata": {},
   "outputs": [],
   "source": [
    "# Mapping\n",
    "for i in range(len(ses_area)):\n",
    "    ses = ses_area.iloc[i, 0]\n",
    "    area = ses_area.iloc[i, 1]\n",
    "    if (ses in ses_dict.keys()) & (area in area_dict.keys()):\n",
    "        ses_area.iloc[i, 0] = ses_dict[ses] + area_dict[area]\n",
    "    else:\n",
    "        ses_area.iloc[i, 0] = -1\n",
    "\n",
    "for i in range(len(original_ses)):\n",
    "    cls = original_ses.iloc[i, 0]\n",
    "    if (cls in ses_dict.keys()):\n",
    "        original_ses.iloc[i, 0] = ses_dict[cls]\n",
    "    else:\n",
    "        original_ses.iloc[i, 0] = -1\n",
    "\n",
    "ses = ses_area.iloc[:, [0]]"
   ]
  },
  {
   "cell_type": "code",
   "execution_count": 225,
   "id": "6d46a2bc-f578-4c79-93c2-d166057232dc",
   "metadata": {},
   "outputs": [],
   "source": [
    "original_ses = original_ses[original_ses[original_ses.columns[0]] != 3].iloc[:, 0].map(lambda x: \"Lower\" if x < 3 else \"upper\")\n",
    "\n",
    "ses_instrument = pd.merge(instrument, original_ses, left_index=True, right_index=True, how='inner')\n",
    "ses_genre = pd.merge(genres, original_ses, left_index=True, right_index=True, how='inner')\n",
    "ses_usage = pd.merge(usage, original_ses, left_index=True, right_index=True, how='inner')"
   ]
  },
  {
   "cell_type": "markdown",
   "id": "3e0b907e-5e5f-4040-b412-a696440ad4b8",
   "metadata": {},
   "source": [
    "# Helper Functions"
   ]
  },
  {
   "cell_type": "code",
   "execution_count": 290,
   "id": "e922d28b-814d-4dc1-8052-32292a6df137",
   "metadata": {},
   "outputs": [],
   "source": [
    "cols_of_interest = {\n",
    "    \"gender\" : \"What is your gender?\",\n",
    "    \"environment\" : \"I grew up in a(n) ... area.\",\n",
    "    \"race\" : \"What is your race/ethnicity?\",\n",
    "    \"poltics\" : \"What are your political views? (pick closest)\",\n",
    "    \"religion\" : \"What are your religious views? (pick closest)\",\n",
    "    \"instrument\" : \"How many music instruments do you play?\"\n",
    "}\n",
    "\n",
    "def clean_instrument(df: pd.DataFrame) -> pd.DataFrame:\n",
    "    \"\"\"\n",
    "    Cleans and aggregates instrument playing data from the input DataFrame.\n",
    "\n",
    "    This function selects specific columns related to musical instruments played by respondents,\n",
    "    converts non-numeric (NaN) values to 0, numeric values to 1, and sums up the total number\n",
    "    of instruments played by each respondent. The summed value is then added as a new column\n",
    "    to the original DataFrame.\n",
    "\n",
    "    Parameters:\n",
    "    - df (pd.DataFrame): The input DataFrame containing raw data.\n",
    "\n",
    "    Returns:\n",
    "    - pd.DataFrame: The original DataFrame with an added 'instrument' column representing the\n",
    "      total number of instruments played by each respondent.\n",
    "    \"\"\"\n",
    "    # Selecting specified columns for instrument data and initializing with binary representation\n",
    "    instrument = df.iloc[1:, [i for i in range(33, 53, 4)]]\n",
    "    for i in range(instrument.shape[1]):\n",
    "        # Mapping non-numeric to 0 and numeric to 1\n",
    "        instrument[instrument.columns[i]] = instrument.iloc[:, i].map(lambda x: 0 if x != x else 1)\n",
    "    # Summing up the number of instruments played by each respondent\n",
    "    instrument = instrument.T.sum().to_frame().rename(columns={0: 'instrument'})\n",
    "\n",
    "    # Adding the aggregated instrument data to the original DataFrame\n",
    "    df[\"How many music instruments do you play?\"] = instrument\n",
    "    return df\n",
    "\n",
    "def clean_genres(df: pd.DataFrame) -> pd.DataFrame:\n",
    "    \"\"\"\n",
    "    Cleans and aggregates musical genre preference data from the input DataFrame.\n",
    "\n",
    "    This function selects columns related to musical genres, converts non-numeric (NaN)\n",
    "    values to 0, numeric values to 1, and sums the preferences across genres for each\n",
    "    respondent. The summed values are returned as a new DataFrame.\n",
    "\n",
    "    Parameters:\n",
    "    - df (pd.DataFrame): The input DataFrame containing raw data.\n",
    "\n",
    "    Returns:\n",
    "    - pd.DataFrame: A new DataFrame with a single 'genres' column representing the total\n",
    "      number of genres preferred by each respondent.\n",
    "    \"\"\"\n",
    "    # Selecting and cleaning genre data\n",
    "    genres = df.iloc[1:, 57:84]\n",
    "    for i in range(genres.shape[1]):\n",
    "        genres[genres.columns[i]] = genres.iloc[:, i].map(lambda x: 0 if x != x else 1)\n",
    "    genres = genres.T.sum().to_frame().rename(columns={0: 'genres'})\n",
    "\n",
    "    return genres\n",
    "\n",
    "def clean_usage(df: pd.DataFrame) -> pd.DataFrame:\n",
    "    \"\"\"\n",
    "    Cleans and aggregates data on the usage of various services or products from the input DataFrame.\n",
    "\n",
    "    Parameters:\n",
    "    - df (pd.DataFrame): The input DataFrame containing raw data.\n",
    "\n",
    "    Returns:\n",
    "    - pd.DataFrame: A new DataFrame with a 'usage' column, summarizing the total usage count\n",
    "      across the selected services or products for each respondent.\n",
    "    \"\"\"\n",
    "    # Selecting and cleaning usage data\n",
    "    usage = df.iloc[1:, 21:32]\n",
    "    for i in range(usage.shape[1]):\n",
    "        usage[usage.columns[i]] = usage.iloc[:, i].map(lambda x: 0 if x != x else 1)\n",
    "    usage = usage.T.sum().to_frame().rename(columns={0: 'usage'})\n",
    "\n",
    "    return usage\n",
    "\n",
    "def clean_ses(df: pd.DataFrame) -> pd.DataFrame:\n",
    "    \"\"\"\n",
    "    Cleans and categorizes socio-economic status (SES) data from the input DataFrame.\n",
    "\n",
    "    Maps the SES descriptions to numeric values, excludes middle class data, and then categorizes\n",
    "    the remaining data into 'Upper' or 'Lower' SES groups.\n",
    "\n",
    "    Parameters:\n",
    "    - df (pd.DataFrame): The input DataFrame containing raw SES data.\n",
    "\n",
    "    Returns:\n",
    "    - pd.DataFrame: A new DataFrame with a single column categorizing respondents into 'Upper' or 'Lower'\n",
    "      SES groups, excluding 'Middle class'.\n",
    "    \"\"\"\n",
    "    # Mapping SES descriptions to numeric values and re-categorizing\n",
    "    original_ses = df.iloc[1:, [-3]]\n",
    "    ses_dict = {\n",
    "        'Upper class': 5,\n",
    "        'Upper middle class': 4,\n",
    "        'Middle class': 3,\n",
    "        'Lower middle class': 2,\n",
    "        'At or below poverty line': 1\n",
    "    }\n",
    "    for i in range(len(original_ses)):\n",
    "        cls = original_ses.iloc[i, 0]\n",
    "        original_ses.iloc[i, 0] = ses_dict.get(cls, -1)\n",
    "    # Excluding 'Middle class' and categorizing into 'Upper' or 'Lower'\n",
    "    original_ses = original_ses[original_ses[original_ses.columns[0]] != 3].iloc[:, 0].map(lambda x: \"Lower\" if x < 3 else \"Upper\").to_frame()\n",
    "\n",
    "    return original_ses\n",
    "\n",
    "def join_df_ses(df: pd.DataFrame, ses: pd.DataFrame) -> pd.DataFrame:\n",
    "    \"\"\"\n",
    "    Joins the main DataFrame with the socio-economic status (SES) DataFrame based on their indices.\n",
    "\n",
    "    Parameters:\n",
    "    - df (pd.DataFrame): The main DataFrame.\n",
    "    - ses (pd.DataFrame): The DataFrame containing SES data.\n",
    "\n",
    "    Returns:\n",
    "    - pd.DataFrame: The result of an inner join between the main DataFrame and the SES DataFrame.\n",
    "    \"\"\"\n",
    "    # Performing an inner join based on DataFrame indices\n",
    "    return pd.merge(df, ses, left_index=True, right_index=True, how='inner')\n",
    "\n",
    "def get_top3_buckets(df: pd.DataFrame, col: str) -> list:\n",
    "    \"\"\"\n",
    "    Identifies the top 3 most common values (buckets) for a specified column in the DataFrame.\n",
    "\n",
    "    Parameters:\n",
    "    - df (pd.DataFrame): The DataFrame to analyze.\n",
    "    - col (str): The column name whose top 3 most common values are to be found.\n",
    "\n",
    "    Returns:\n",
    "    - list: A list containing the top 3 most common values in the specified column.\n",
    "    \"\"\"\n",
    "    # Accessing the column of interest\n",
    "    col_name = cols_of_interest[col]\n",
    "    # Retrieving the top 3 most common values\n",
    "    return [df[[col_name]].iloc[1:].value_counts().keys()[i][0] for i in range(3)]\n",
    "\n",
    "def stratification(df: pd.DataFrame, joined_df_ses: pd.DataFrame, col: str, bucket: int) -> pd.DataFrame:\n",
    "    \"\"\"\n",
    "    Stratifies a DataFrame based on the top 3 buckets of a specific column and merges it with SES data.\n",
    "\n",
    "    Parameters:\n",
    "    - df (pd.DataFrame): The original DataFrame.\n",
    "    - joined_df_ses (pd.DataFrame): The DataFrame containing joined SES data.\n",
    "    - col (str): The column name used for stratification.\n",
    "    - bucket (int): The specific bucket (1, 2, or 3) to filter by, or any other value to exclude these top 3.\n",
    "\n",
    "    Returns:\n",
    "    - pd.DataFrame: A stratified DataFrame filtered by the specified bucket and merged with SES data.\n",
    "    \"\"\"\n",
    "    # Getting the top 3 buckets for stratification\n",
    "    top3_bucket = get_top3_buckets(df, col)\n",
    "    col_name = cols_of_interest[col]\n",
    "    # Merging with SES data based on stratification criteria\n",
    "    joined_tabs = pd.merge(joined_df_ses, df[col_name], left_index=True, right_index=True, how='inner')\n",
    "    if bucket in [1, 2, 3]:\n",
    "        # Filtering by the specific bucket\n",
    "        return joined_tabs[joined_tabs[col_name] == top3_bucket[bucket-1]]\n",
    "    else:\n",
    "        # Excluding the top 3 buckets\n",
    "        return joined_tabs[~joined_tabs[col_name].isin(top3_bucket)]\n",
    "\n",
    "def stratified_t_test(stratified_df: pd.DataFrame) -> float:\n",
    "    \"\"\"\n",
    "    Performs a t-test to compare means between two stratified groups based on SES ('Upper' vs 'Lower').\n",
    "\n",
    "    Parameters:\n",
    "    - stratified_df (pd.DataFrame): The DataFrame containing stratified data along with SES categorization.\n",
    "\n",
    "    Returns:\n",
    "    - float: The p-value from the t-test comparing the means of the two groups.\n",
    "    \"\"\"\n",
    "    # Conducting a t-test between 'Upper' and 'Lower' SES groups\n",
    "    res = scipy.stats.ttest_ind(\n",
    "        stratified_df[stratified_df[stratified_df.columns[1]] == \"Upper\"][stratified_df.columns[0]],\n",
    "        stratified_df[stratified_df[stratified_df.columns[1]] == \"Lower\"][stratified_df.columns[0]]\n",
    "    )\n",
    "\n",
    "    return res.pvalue"
   ]
  },
  {
   "cell_type": "markdown",
   "id": "8d494a2c-955b-4ac9-be09-41c63969ed13",
   "metadata": {},
   "source": [
    "# t tests"
   ]
  },
  {
   "cell_type": "markdown",
   "id": "bc3a0143-3550-46c1-87fb-ca47a0d16462",
   "metadata": {},
   "source": [
    "## genres"
   ]
  },
  {
   "cell_type": "markdown",
   "id": "a70351be-c776-490e-bb8d-71c07e73b773",
   "metadata": {},
   "source": [
    "### race, religiion, & politics"
   ]
  },
  {
   "cell_type": "code",
   "execution_count": 291,
   "id": "2dcef1a7-c76f-4dae-965b-9d9412248255",
   "metadata": {},
   "outputs": [
    {
     "name": "stdout",
     "output_type": "stream",
     "text": [
      "0.1942495326784909\n",
      "0.224025478909647\n",
      "0.10934748213998366\n",
      "0.09043158131795562\n",
      "\n",
      "0.9887276001218289\n",
      "0.20971095193792844\n",
      "0.5428571863663978\n",
      "0.10127450452394794\n",
      "\n",
      "0.17510619242426118\n",
      "0.37734737711347943\n",
      "0.4373152924210356\n",
      "0.8171194704283461\n"
     ]
    }
   ],
   "source": [
    "genres_strat_race_1 = stratification(df, join_df_ses(clean_genres(df), clean_ses(df)), \"race\", 1)\n",
    "genres_strat_race_2 = stratification(df, join_df_ses(clean_genres(df), clean_ses(df)), \"race\", 2)\n",
    "genres_strat_race_3 = stratification(df, join_df_ses(clean_genres(df), clean_ses(df)), \"race\", 3)\n",
    "genres_strat_race_4 = stratification(df, join_df_ses(clean_genres(df), clean_ses(df)), \"race\", 4)\n",
    "print(stratified_t_test(genres_strat_race_1))\n",
    "print(stratified_t_test(genres_strat_race_2))\n",
    "print(stratified_t_test(genres_strat_race_3))\n",
    "print(stratified_t_test(genres_strat_race_4))\n",
    "print()\n",
    "genres_strat_religion_1 = stratification(df, join_df_ses(clean_genres(df), clean_ses(df)), \"religion\", 1)\n",
    "genres_strat_religion_2 = stratification(df, join_df_ses(clean_genres(df), clean_ses(df)), \"religion\", 2)\n",
    "genres_strat_religion_3 = stratification(df, join_df_ses(clean_genres(df), clean_ses(df)), \"religion\", 3)\n",
    "genres_strat_religion_4 = stratification(df, join_df_ses(clean_genres(df), clean_ses(df)), \"religion\", 4)\n",
    "print(stratified_t_test(genres_strat_religion_1))\n",
    "print(stratified_t_test(genres_strat_religion_2))\n",
    "print(stratified_t_test(genres_strat_religion_3))\n",
    "print(stratified_t_test(genres_strat_religion_4))\n",
    "print()\n",
    "genres_strat_poltics_1 = stratification(df, join_df_ses(clean_genres(df), clean_ses(df)), \"poltics\", 1)\n",
    "genres_strat_poltics_2 = stratification(df, join_df_ses(clean_genres(df), clean_ses(df)), \"poltics\", 2)\n",
    "genres_strat_poltics_3 = stratification(df, join_df_ses(clean_genres(df), clean_ses(df)), \"poltics\", 3)\n",
    "genres_strat_poltics_4 = stratification(df, join_df_ses(clean_genres(df), clean_ses(df)), \"poltics\", 4)\n",
    "print(stratified_t_test(genres_strat_poltics_1))\n",
    "print(stratified_t_test(genres_strat_poltics_2))\n",
    "print(stratified_t_test(genres_strat_poltics_3))\n",
    "print(stratified_t_test(genres_strat_poltics_4))"
   ]
  },
  {
   "cell_type": "markdown",
   "id": "3de568bf-157b-4e9e-8bb8-ad15e964471c",
   "metadata": {},
   "source": [
    "# Usage"
   ]
  },
  {
   "cell_type": "markdown",
   "id": "ddaca994-409e-4179-93b1-eba0f5985062",
   "metadata": {},
   "source": [
    "### race, religiion, & politics"
   ]
  },
  {
   "cell_type": "code",
   "execution_count": 292,
   "id": "5242378b-16f9-4386-9766-4b4aa17bad0b",
   "metadata": {},
   "outputs": [
    {
     "name": "stdout",
     "output_type": "stream",
     "text": [
      "0.1579216208323055\n",
      "0.36699198605152805\n",
      "0.7280399418456585\n",
      "0.4371159833966969\n",
      "\n",
      "0.7989060316215938\n",
      "0.5453402030947225\n",
      "0.6032182129776884\n",
      "0.17239727131063404\n",
      "\n",
      "0.37774284127809354\n",
      "0.6698108138961769\n",
      "0.8864975123573696\n",
      "0.5046968006154766\n"
     ]
    }
   ],
   "source": [
    "usage_strat_race_1 = stratification(df, join_df_ses(clean_usage(df), clean_ses(df)), \"race\", 1)\n",
    "usage_strat_race_2 = stratification(df, join_df_ses(clean_usage(df), clean_ses(df)), \"race\", 2)\n",
    "usage_strat_race_3 = stratification(df, join_df_ses(clean_usage(df), clean_ses(df)), \"race\", 3)\n",
    "usage_strat_race_4 = stratification(df, join_df_ses(clean_usage(df), clean_ses(df)), \"race\", 4)\n",
    "print(stratified_t_test(usage_strat_race_1))\n",
    "print(stratified_t_test(usage_strat_race_2))\n",
    "print(stratified_t_test(usage_strat_race_3))\n",
    "print(stratified_t_test(usage_strat_race_4))\n",
    "print()\n",
    "usage_strat_religion_1 = stratification(df, join_df_ses(clean_usage(df), clean_ses(df)), \"religion\", 1)\n",
    "usage_strat_religion_2 = stratification(df, join_df_ses(clean_usage(df), clean_ses(df)), \"religion\", 2)\n",
    "usage_strat_religion_3 = stratification(df, join_df_ses(clean_usage(df), clean_ses(df)), \"religion\", 3)\n",
    "usage_strat_religion_4 = stratification(df, join_df_ses(clean_usage(df), clean_ses(df)), \"religion\", 4)\n",
    "print(stratified_t_test(usage_strat_religion_1))\n",
    "print(stratified_t_test(usage_strat_religion_2))\n",
    "print(stratified_t_test(usage_strat_religion_3))\n",
    "print(stratified_t_test(usage_strat_religion_4))\n",
    "print()\n",
    "usage_strat_poltics_1 = stratification(df, join_df_ses(clean_usage(df), clean_ses(df)), \"poltics\", 1)\n",
    "usage_strat_poltics_2 = stratification(df, join_df_ses(clean_usage(df), clean_ses(df)), \"poltics\", 2)\n",
    "usage_strat_poltics_3 = stratification(df, join_df_ses(clean_usage(df), clean_ses(df)), \"poltics\", 3)\n",
    "usage_strat_poltics_4 = stratification(df, join_df_ses(clean_usage(df), clean_ses(df)), \"poltics\", 4)\n",
    "print(stratified_t_test(usage_strat_poltics_1))\n",
    "print(stratified_t_test(usage_strat_poltics_2))\n",
    "print(stratified_t_test(usage_strat_poltics_3))\n",
    "print(stratified_t_test(usage_strat_poltics_4))"
   ]
  },
  {
   "cell_type": "markdown",
   "id": "193be952-8514-466e-83ae-b5cf90df4e4b",
   "metadata": {},
   "source": [
    "# Plots"
   ]
  },
  {
   "cell_type": "code",
   "execution_count": 288,
   "id": "7a30ec80-18bd-4e8a-bf3a-4daeca6aed81",
   "metadata": {},
   "outputs": [
    {
     "data": {
      "image/png": "[encoded data removed]",
      "text/plain": [
       "<Figure size 1200x1000 with 20 Axes>"
      ]
     },
     "metadata": {},
     "output_type": "display_data"
    }
   ],
   "source": [
    "# Create a 5x4 grid of subplots\n",
    "fig, axs = plt.subplots(5, 4, figsize=(12, 10))\n",
    "\n",
    "# plot\n",
    "axs[0, 0].plot(x, y)\n",
    "axs[0, 1].plot(x, y)\n",
    "\n",
    "plt.tight_layout()\n",
    "plt.show()"
   ]
  },
  {
   "cell_type": "code",
   "execution_count": null,
   "id": "9d57648c-7bde-408e-8fff-83b2c7d5b669",
   "metadata": {},
   "outputs": [],
   "source": []
  },
  {
   "cell_type": "code",
   "execution_count": null,
   "id": "aeb09ab6-5f51-4fbd-b255-2432c3432ef5",
   "metadata": {},
   "outputs": [],
   "source": []
  },
  {
   "cell_type": "code",
   "execution_count": null,
   "id": "32c0c800-60f3-479b-90c0-3eb4d09c9f54",
   "metadata": {},
   "outputs": [],
   "source": []
  },
  {
   "cell_type": "code",
   "execution_count": null,
   "id": "d1875ee0-4884-43d8-b29a-cdff23765c9e",
   "metadata": {},
   "outputs": [],
   "source": []
  },
  {
   "cell_type": "code",
   "execution_count": null,
   "id": "c347de6d-e084-4dcd-af3e-69bdfab56af8",
   "metadata": {},
   "outputs": [],
   "source": []
  },
  {
   "cell_type": "markdown",
   "id": "5f6a4312-dd57-42b0-ad71-f74d3b16a2e4",
   "metadata": {
    "jp-MarkdownHeadingCollapsed": true
   },
   "source": [
    "# Correlation Analysis"
   ]
  },
  {
   "cell_type": "markdown",
   "id": "6c3d63c6-e1bd-4fe3-99e0-9cb23892477b",
   "metadata": {},
   "source": [
    "## Ratings"
   ]
  },
  {
   "cell_type": "markdown",
   "id": "33eb9f9f-121f-49d3-af9b-0b249fe5756b",
   "metadata": {
    "tags": []
   },
   "source": [
    "### KW"
   ]
  },
  {
   "cell_type": "code",
   "execution_count": 36,
   "id": "529e4d94-e4ae-418e-9538-e120c7f13ae8",
   "metadata": {},
   "outputs": [],
   "source": [
    "genre_list = list(df.iloc[0, 11:20].values)\n",
    "kw_dict = {}\n",
    "\n",
    "for i in range(9):\n",
    "    ratings_ses = pd.concat([ratings.iloc[:, i], original_ses], axis = 1)\n",
    "    ratings_ses = ratings_ses[(ratings_ses[ratings_ses.columns[0]] != -1) & (ratings_ses[ratings_ses.columns[1]] != -1)]\n",
    "    ratings_list = [ratings_ses[ratings_ses[ratings_ses.columns[1]] == i].iloc[:, 0] for i in range(1,6)]\n",
    "    kw_dict[genre_list[i]] = scipy.stats.kruskal(*ratings_list).pvalue"
   ]
  },
  {
   "cell_type": "code",
   "execution_count": 37,
   "id": "a9f6e81f-3434-4a94-87a3-47c73cecfbb2",
   "metadata": {},
   "outputs": [
    {
     "data": {
      "text/plain": [
       "{'Classical': 0.1562322468292185,\n",
       " 'Country': 0.10570119772711711,\n",
       " 'Electronic': 0.0005210514425996549,\n",
       " 'Jazz': 0.04677395041334373,\n",
       " 'Pop': 0.5993128890282292,\n",
       " 'Rap/Hip-hop': 0.0015462263458019198,\n",
       " 'Rock': 0.09424362939453995,\n",
       " 'R&B/Soul': 0.00034491376660815784,\n",
       " 'World/International': 0.0025102594438881397}"
      ]
     },
     "execution_count": 37,
     "metadata": {},
     "output_type": "execute_result"
    }
   ],
   "source": [
    "kw_dict"
   ]
  },
  {
   "cell_type": "markdown",
   "id": "cca30358-22dc-4973-ba61-1cd4e53a66f4",
   "metadata": {},
   "source": [
    "### Spearman r"
   ]
  },
  {
   "cell_type": "code",
   "execution_count": 38,
   "id": "8d00e735-87c0-4733-af1e-86a3d69e60cc",
   "metadata": {},
   "outputs": [],
   "source": [
    "r_dict = {}\n",
    "\n",
    "for i in range(ratings.shape[1]):\n",
    "    tmp = pd.concat([ratings.iloc[:, i], ses], axis = 1).astype(float)\n",
    "    tmp = tmp[(tmp[tmp.columns[0]] != -1) & (tmp[tmp.columns[1]] != -1)]\n",
    "    r_dict[genre_list[i]] = scipy.stats.spearmanr(tmp.iloc[:, 0], tmp.iloc[:, 1])"
   ]
  },
  {
   "cell_type": "code",
   "execution_count": 39,
   "id": "d2f19458-93a1-4a07-a85d-c7c45137d436",
   "metadata": {},
   "outputs": [
    {
     "data": {
      "text/plain": [
       "{'Classical': SignificanceResult(statistic=-0.0027416679759382067, pvalue=0.9234136301800413),\n",
       " 'Country': SignificanceResult(statistic=0.10490227394601813, pvalue=0.00022162795469314153),\n",
       " 'Electronic': SignificanceResult(statistic=0.09669367836210711, pvalue=0.0006674823173185003),\n",
       " 'Jazz': SignificanceResult(statistic=0.07140832108519952, pvalue=0.012208528635036388),\n",
       " 'Pop': SignificanceResult(statistic=-0.006142563725705701, pvalue=0.8291250966454984),\n",
       " 'Rap/Hip-hop': SignificanceResult(statistic=-0.021013243719367757, pvalue=0.461004292704835),\n",
       " 'Rock': SignificanceResult(statistic=0.00866411985101781, pvalue=0.7608992145115663),\n",
       " 'R&B/Soul': SignificanceResult(statistic=-0.09998863220360825, pvalue=0.00044002619219900724),\n",
       " 'World/International': SignificanceResult(statistic=-0.07809816868718418, pvalue=0.005971800177368088)}"
      ]
     },
     "execution_count": 39,
     "metadata": {},
     "output_type": "execute_result"
    }
   ],
   "source": [
    "r_dict"
   ]
  },
  {
   "cell_type": "markdown",
   "id": "309d4ed7-0d39-4fe4-82b7-00e724cbdee7",
   "metadata": {},
   "source": [
    "### Mann-Whitney U"
   ]
  },
  {
   "cell_type": "code",
   "execution_count": 40,
   "id": "d59ab05c-ecc9-49b9-854a-f908946a94bf",
   "metadata": {
    "tags": []
   },
   "outputs": [],
   "source": [
    "U_dict = {}\n",
    "\n",
    "for i in range(9):\n",
    "    ratings_ses = pd.concat([ratings.iloc[:, i], original_ses], axis = 1)\n",
    "    ratings_ses = ratings_ses[(ratings_ses[ratings_ses.columns[0]] != -1) & (ratings_ses[ratings_ses.columns[1]] != -1)]\n",
    "    upper = ratings_ses[ratings_ses[ratings_ses.columns[1]] >= 3].iloc[:, 0]\n",
    "    lower = ratings_ses[ratings_ses[ratings_ses.columns[1]] < 3].iloc[:, 0]\n",
    "    U_dict[genre_list[i]] = scipy.stats.mannwhitneyu(upper.to_numpy().astype(int), lower.to_numpy().astype(int)).pvalue"
   ]
  },
  {
   "cell_type": "code",
   "execution_count": 41,
   "id": "c397ca8a-8edd-4b46-9fdb-23f336b735c8",
   "metadata": {
    "tags": []
   },
   "outputs": [
    {
     "data": {
      "text/plain": [
       "{'Classical': 0.30569159685780833,\n",
       " 'Country': 0.01101810318946325,\n",
       " 'Electronic': 6.806880718271089e-05,\n",
       " 'Jazz': 0.005530442850928049,\n",
       " 'Pop': 0.7445268340942288,\n",
       " 'Rap/Hip-hop': 0.0012999486162199683,\n",
       " 'Rock': 0.631601414272262,\n",
       " 'R&B/Soul': 0.0006144134909208839,\n",
       " 'World/International': 0.000967010178698744}"
      ]
     },
     "execution_count": 41,
     "metadata": {},
     "output_type": "execute_result"
    }
   ],
   "source": [
    "U_dict"
   ]
  },
  {
   "cell_type": "markdown",
   "id": "6c7cca45-32af-40e6-9bd4-25072892bc7e",
   "metadata": {},
   "source": [
    "## Importance"
   ]
  },
  {
   "cell_type": "markdown",
   "id": "dc6a3e09-814b-4b2c-a2cc-b308669d7ac2",
   "metadata": {},
   "source": [
    "### KW test"
   ]
  },
  {
   "cell_type": "code",
   "execution_count": 58,
   "id": "035bb56b-641b-4680-93df-79760cb54dad",
   "metadata": {},
   "outputs": [],
   "source": [
    "imp_ses = pd.concat([importance, ses], axis = 1)\n",
    "imp_ses = imp_ses[(imp_ses[imp_ses.columns[0]] != -1) & (imp_ses[imp_ses.columns[1]] != -1)]\n",
    "imp_list = [imp_ses[imp_ses[imp_ses.columns[1]] == i].iloc[:, 0] for i in range(1,6)]\n",
    "imp_dict = {\n",
    "    imp_ses.columns[0]: scipy.stats.kruskal(*imp_list).pvalue\n",
    "} "
   ]
  },
  {
   "cell_type": "code",
   "execution_count": 60,
   "id": "2b20bb8b-a547-436f-affb-eba22e06da74",
   "metadata": {},
   "outputs": [
    {
     "data": {
      "text/plain": [
       "{'How important is music to you?': 0.04608935284102516}"
      ]
     },
     "execution_count": 60,
     "metadata": {},
     "output_type": "execute_result"
    }
   ],
   "source": [
    "imp_dict"
   ]
  },
  {
   "cell_type": "markdown",
   "id": "00d01994-2e57-4021-8ec9-2edc1ab23f18",
   "metadata": {},
   "source": [
    "### asd"
   ]
  },
  {
   "cell_type": "code",
   "execution_count": null,
   "id": "9a488305-7636-47b4-a0bc-705f1f335718",
   "metadata": {},
   "outputs": [],
   "source": []
  },
  {
   "cell_type": "code",
   "execution_count": null,
   "id": "43e9812d-9832-49d5-a668-81c1303eb174",
   "metadata": {},
   "outputs": [],
   "source": []
  },
  {
   "cell_type": "code",
   "execution_count": null,
   "id": "68f04096-21ca-477b-8f2a-51ab2bff3ea5",
   "metadata": {},
   "outputs": [],
   "source": []
  },
  {
   "cell_type": "markdown",
   "id": "e741e00a-f1b1-47c1-b59b-2c32b094e0a8",
   "metadata": {},
   "source": [
    "### asd"
   ]
  },
  {
   "cell_type": "code",
   "execution_count": null,
   "id": "cc8a8894-46ab-4a0b-820e-28b7aafb6cef",
   "metadata": {},
   "outputs": [],
   "source": []
  },
  {
   "cell_type": "code",
   "execution_count": null,
   "id": "e4b50181-d789-4d85-a0ca-7236254d744a",
   "metadata": {},
   "outputs": [],
   "source": []
  },
  {
   "cell_type": "code",
   "execution_count": null,
   "id": "7932817d-753d-4de0-8903-d731ca8e121b",
   "metadata": {},
   "outputs": [],
   "source": []
  },
  {
   "cell_type": "markdown",
   "id": "e3dbc81a-bcc5-4636-9aad-0faf5e642723",
   "metadata": {},
   "source": [
    "## SES vs Environment"
   ]
  },
  {
   "cell_type": "markdown",
   "id": "f414b69b-c839-4f54-bb4a-5ff920542e7a",
   "metadata": {
    "tags": []
   },
   "source": [
    "### KS Test"
   ]
  },
  {
   "cell_type": "code",
   "execution_count": 65,
   "id": "debe012b-8710-4b64-85ff-ff37794ed843",
   "metadata": {},
   "outputs": [],
   "source": [
    "urban = ses_area[ses_area[ses_area.columns[1]] == \"Urban\"].iloc[:, 0].to_numpy().astype(int)\n",
    "suburban = ses_area[ses_area[ses_area.columns[1]] == \"Suburban\"].iloc[:, 0].to_numpy().astype(int)\n",
    "rural = ses_area[ses_area[ses_area.columns[1]] == \"Rural\"].iloc[:, 0].to_numpy().astype(int)\n",
    "\n",
    "ks_dict = {\n",
    "    \"urban vs suburban\" : scipy.stats.ks_2samp(urban, suburban),\n",
    "    \"suburban vs rural\" : scipy.stats.ks_2samp(suburban, rural),\n",
    "    \"rural vs urban\" : scipy.stats.ks_2samp(rural, urban),\n",
    "}"
   ]
  },
  {
   "cell_type": "code",
   "execution_count": 66,
   "id": "c1442beb-dd27-4d64-804a-64feb63a2d5d",
   "metadata": {},
   "outputs": [
    {
     "data": {
      "text/plain": [
       "{'urban vs suburban': KstestResult(statistic=0.33950911473847256, pvalue=6.158938960106663e-33, statistic_location=3, statistic_sign=-1),\n",
       " 'suburban vs rural': KstestResult(statistic=0.20316338296485686, pvalue=0.016879619814214417, statistic_location=1, statistic_sign=-1),\n",
       " 'rural vs urban': KstestResult(statistic=0.3782999787098148, pvalue=1.2374523017712157e-07, statistic_location=2, statistic_sign=1)}"
      ]
     },
     "execution_count": 66,
     "metadata": {},
     "output_type": "execute_result"
    }
   ],
   "source": [
    "ks_dict"
   ]
  },
  {
   "cell_type": "code",
   "execution_count": null,
   "id": "042ea8a1-a83d-45a0-84a2-e92d272bf3de",
   "metadata": {},
   "outputs": [],
   "source": []
  },
  {
   "cell_type": "code",
   "execution_count": null,
   "id": "bc2fe2fc-752d-478e-8a52-95c0239eb8d8",
   "metadata": {},
   "outputs": [],
   "source": []
  },
  {
   "cell_type": "code",
   "execution_count": null,
   "id": "f5a463e6-f379-4b6a-a4d4-3bb2b4e8329b",
   "metadata": {},
   "outputs": [],
   "source": []
  },
  {
   "cell_type": "code",
   "execution_count": null,
   "id": "bb788d37-b4a8-4c7d-a9eb-0955fef987c0",
   "metadata": {},
   "outputs": [],
   "source": []
  },
  {
   "cell_type": "code",
   "execution_count": null,
   "id": "d8a618ec-ccf4-4ddd-8a06-6c169c766379",
   "metadata": {},
   "outputs": [],
   "source": []
  },
  {
   "cell_type": "code",
   "execution_count": null,
   "id": "6e5bd5b1-a842-46e3-896f-64f8b56f95f8",
   "metadata": {},
   "outputs": [],
   "source": []
  },
  {
   "cell_type": "code",
   "execution_count": null,
   "id": "0918c1e9-ecbf-4b68-8960-8c45947a5e34",
   "metadata": {},
   "outputs": [],
   "source": []
  }
 ],
 "metadata": {
  "kernelspec": {
   "display_name": "Python 3 (ipykernel)",
   "language": "python",
   "name": "python3"
  },
  "language_info": {
   "codemirror_mode": {
    "name": "ipython",
    "version": 3
   },
   "file_extension": ".py",
   "mimetype": "text/x-python",
   "name": "python",
   "nbconvert_exporter": "python",
   "pygments_lexer": "ipython3",
   "version": "3.11.3"
  }
 },
 "nbformat": 4,
 "nbformat_minor": 5
}
